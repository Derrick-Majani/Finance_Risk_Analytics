{
  "cells": [
    {
      "cell_type": "markdown",
      "metadata": {
        "id": "view-in-github",
        "colab_type": "text"
      },
      "source": [
        "<a href=\"https://colab.research.google.com/github/Derrick-Majani/Finance_Risk_Analytics/blob/main/Company_Default_Solution_File.ipynb\" target=\"_parent\"><img src=\"https://colab.research.google.com/assets/colab-badge.svg\" alt=\"Open In Colab\"/></a>"
      ]
    },
    {
      "cell_type": "markdown",
      "metadata": {
        "id": "BBUVmp-Kc0gn"
      },
      "source": [
        "# Company Default Data\n",
        "\n",
        "### Description:\n",
        "The dataset contains information on default payments & company details of Companies in India as on March 2019.\n",
        "\n",
        "### Usage\n",
        "Default\n",
        "\n",
        "### Format\n",
        "A data frame with 1384 observations on the following 11 variables\n",
        "\n",
        "***Num***: ID of each company\n",
        "\n",
        "***Net worth***: Value of the company (Value a corporation owns, minus the liabilities they owe)\n",
        "\n",
        "***Default***: Default payment in next month (1=yes, 0=no)\n",
        "\n",
        "***Total_assets***: Total amount of assets owned by the company\n",
        "\n",
        "***Total_income***: Total income a business receives before any taxes, expenses, adjustments, exemptions, or deductions are taken out\n",
        "\n",
        "***PAT_as_%_of_total_income***: Profit per sales dollar after all expenses are deducted from sales\n",
        "\n",
        "***PBDITA_as_%_of_total_income***: Profit before depreciation, income tax and amortization divided by Total income\n",
        "\n",
        "***PBT_as_%_of_total_income***: Profit per sales dollar before all expenses are deducted from sales\n",
        "\n",
        "***Cash_profit_as_%_of_total_income***: Profit recorded by a business that uses the cash basis of accounting (Cash Profit:Total Cash profit)\n",
        "\n",
        "***Current_ratio***: Liquidity ratio that measures a company's ability to pay short-term obligations or those due within one year (Current assets divided by current liabilities)\n",
        "\n",
        "***Debt_to_equity_ratio***: Leverage ratio that calculates the weight of total debt and financial liabilities against total shareholders’ equity\n",
        "\n",
        "\n",
        "### Source:\n",
        "Simulated data"
      ]
    },
    {
      "cell_type": "markdown",
      "metadata": {
        "id": "fnXH0CQKc0gp"
      },
      "source": [
        "#### Importing the libraries"
      ]
    },
    {
      "cell_type": "code",
      "execution_count": 65,
      "metadata": {
        "id": "s1sSJTxac0gq"
      },
      "outputs": [],
      "source": [
        "import numpy as np\n",
        "import matplotlib.pyplot as plt\n",
        "import pandas as pd\n",
        "import io\n",
        "import seaborn as sns # for making plots with seaborn\n",
        "color = sns.color_palette()\n",
        "import sklearn.metrics as metrics\n",
        "\n",
        "import warnings\n",
        "warnings.filterwarnings(\"ignore\")"
      ]
    },
    {
      "cell_type": "markdown",
      "metadata": {
        "id": "cH7PyhDzc0gr"
      },
      "source": [
        "#### Importing the dataset"
      ]
    },
    {
      "cell_type": "code",
      "source": [
        "# Use Local drives to upload the excel on google colab\n",
        "from google.colab import files\n",
        "uploaded = files.upload()"
      ],
      "metadata": {
        "colab": {
          "resources": {
            "http://localhost:8080/nbextensions/google.colab/files.js": {
              "data": "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",
              "ok": true,
              "headers": [
                [
                  "content-type",
                  "application/javascript"
                ]
              ],
              "status": 200,
              "status_text": ""
            }
          },
          "base_uri": "https://localhost:8080/",
          "height": 73
        },
        "id": "rEiF0EkIdANg",
        "outputId": "15d5479d-78d5-462d-e834-ccb982d770f1"
      },
      "execution_count": 2,
      "outputs": [
        {
          "output_type": "display_data",
          "data": {
            "text/plain": [
              "<IPython.core.display.HTML object>"
            ],
            "text/html": [
              "\n",
              "     <input type=\"file\" id=\"files-a74d87ad-6386-4b2c-8628-2a748035e5a3\" name=\"files[]\" multiple disabled\n",
              "        style=\"border:none\" />\n",
              "     <output id=\"result-a74d87ad-6386-4b2c-8628-2a748035e5a3\">\n",
              "      Upload widget is only available when the cell has been executed in the\n",
              "      current browser session. Please rerun this cell to enable.\n",
              "      </output>\n",
              "      <script src=\"/nbextensions/google.colab/files.js\"></script> "
            ]
          },
          "metadata": {}
        },
        {
          "output_type": "stream",
          "name": "stdout",
          "text": [
            "Saving CompanyDefault.csv to CompanyDefault.csv\n"
          ]
        }
      ]
    },
    {
      "cell_type": "code",
      "source": [
        "# Loading the dataset - sheet_name parameter is used if there are multiple tabs in the excel file.\n",
        "#data = pd.read_csv(\"German_Credit (1).csv\")\n",
        "Default =pd.read_csv(io.BytesIO(uploaded['CompanyDefault.csv']))\n",
        "Default.sample(n=5)"
      ],
      "metadata": {
        "colab": {
          "base_uri": "https://localhost:8080/",
          "height": 270
        },
        "id": "qmCL-n5ydARF",
        "outputId": "d020da7a-5456-4d81-e2e3-4ce6b355a2b8"
      },
      "execution_count": 3,
      "outputs": [
        {
          "output_type": "execute_result",
          "data": {
            "text/plain": [
              "       Num  Net_worth  default  Total_assets  Total_income  \\\n",
              "810   1491       88.4        0         154.0         981.7   \n",
              "1228  1909      147.2        0         308.1         404.1   \n",
              "264    265        2.9        1          23.6           5.0   \n",
              "538    539       14.0        0         332.5          13.4   \n",
              "347    348        6.0        0           9.5           7.8   \n",
              "\n",
              "      PAT_as_%_of_total_income  PBDITA_as_%_of_total_income  \\\n",
              "810                   1.415911                     3.412448   \n",
              "1228                  4.281119                    13.412522   \n",
              "264                  10.000000                    22.000000   \n",
              "538                   0.000000                     2.985075   \n",
              "347                  -1.282051                     5.128205   \n",
              "\n",
              "      PBT_as_%_of_total_income  Cash_profit_as_%_of_total_income  \\\n",
              "810                   1.915045                          2.332688   \n",
              "1228                  6.557783                          8.883940   \n",
              "264                  10.000000                         22.000000   \n",
              "538                   0.000000                        -27.611940   \n",
              "347                  -1.282051                          3.846154   \n",
              "\n",
              "      Current_ratio  Debt_to_equity_ratio  \n",
              "810            1.71                  1.08  \n",
              "1228           1.86                  0.63  \n",
              "264            1.18                  3.16  \n",
              "538            1.01                 15.76  \n",
              "347            4.14                  0.35  "
            ],
            "text/html": [
              "\n",
              "  <div id=\"df-3ceea565-935d-41b6-8d12-84f235722df9\">\n",
              "    <div class=\"colab-df-container\">\n",
              "      <div>\n",
              "<style scoped>\n",
              "    .dataframe tbody tr th:only-of-type {\n",
              "        vertical-align: middle;\n",
              "    }\n",
              "\n",
              "    .dataframe tbody tr th {\n",
              "        vertical-align: top;\n",
              "    }\n",
              "\n",
              "    .dataframe thead th {\n",
              "        text-align: right;\n",
              "    }\n",
              "</style>\n",
              "<table border=\"1\" class=\"dataframe\">\n",
              "  <thead>\n",
              "    <tr style=\"text-align: right;\">\n",
              "      <th></th>\n",
              "      <th>Num</th>\n",
              "      <th>Net_worth</th>\n",
              "      <th>default</th>\n",
              "      <th>Total_assets</th>\n",
              "      <th>Total_income</th>\n",
              "      <th>PAT_as_%_of_total_income</th>\n",
              "      <th>PBDITA_as_%_of_total_income</th>\n",
              "      <th>PBT_as_%_of_total_income</th>\n",
              "      <th>Cash_profit_as_%_of_total_income</th>\n",
              "      <th>Current_ratio</th>\n",
              "      <th>Debt_to_equity_ratio</th>\n",
              "    </tr>\n",
              "  </thead>\n",
              "  <tbody>\n",
              "    <tr>\n",
              "      <th>810</th>\n",
              "      <td>1491</td>\n",
              "      <td>88.4</td>\n",
              "      <td>0</td>\n",
              "      <td>154.0</td>\n",
              "      <td>981.7</td>\n",
              "      <td>1.415911</td>\n",
              "      <td>3.412448</td>\n",
              "      <td>1.915045</td>\n",
              "      <td>2.332688</td>\n",
              "      <td>1.71</td>\n",
              "      <td>1.08</td>\n",
              "    </tr>\n",
              "    <tr>\n",
              "      <th>1228</th>\n",
              "      <td>1909</td>\n",
              "      <td>147.2</td>\n",
              "      <td>0</td>\n",
              "      <td>308.1</td>\n",
              "      <td>404.1</td>\n",
              "      <td>4.281119</td>\n",
              "      <td>13.412522</td>\n",
              "      <td>6.557783</td>\n",
              "      <td>8.883940</td>\n",
              "      <td>1.86</td>\n",
              "      <td>0.63</td>\n",
              "    </tr>\n",
              "    <tr>\n",
              "      <th>264</th>\n",
              "      <td>265</td>\n",
              "      <td>2.9</td>\n",
              "      <td>1</td>\n",
              "      <td>23.6</td>\n",
              "      <td>5.0</td>\n",
              "      <td>10.000000</td>\n",
              "      <td>22.000000</td>\n",
              "      <td>10.000000</td>\n",
              "      <td>22.000000</td>\n",
              "      <td>1.18</td>\n",
              "      <td>3.16</td>\n",
              "    </tr>\n",
              "    <tr>\n",
              "      <th>538</th>\n",
              "      <td>539</td>\n",
              "      <td>14.0</td>\n",
              "      <td>0</td>\n",
              "      <td>332.5</td>\n",
              "      <td>13.4</td>\n",
              "      <td>0.000000</td>\n",
              "      <td>2.985075</td>\n",
              "      <td>0.000000</td>\n",
              "      <td>-27.611940</td>\n",
              "      <td>1.01</td>\n",
              "      <td>15.76</td>\n",
              "    </tr>\n",
              "    <tr>\n",
              "      <th>347</th>\n",
              "      <td>348</td>\n",
              "      <td>6.0</td>\n",
              "      <td>0</td>\n",
              "      <td>9.5</td>\n",
              "      <td>7.8</td>\n",
              "      <td>-1.282051</td>\n",
              "      <td>5.128205</td>\n",
              "      <td>-1.282051</td>\n",
              "      <td>3.846154</td>\n",
              "      <td>4.14</td>\n",
              "      <td>0.35</td>\n",
              "    </tr>\n",
              "  </tbody>\n",
              "</table>\n",
              "</div>\n",
              "      <button class=\"colab-df-convert\" onclick=\"convertToInteractive('df-3ceea565-935d-41b6-8d12-84f235722df9')\"\n",
              "              title=\"Convert this dataframe to an interactive table.\"\n",
              "              style=\"display:none;\">\n",
              "        \n",
              "  <svg xmlns=\"http://www.w3.org/2000/svg\" height=\"24px\"viewBox=\"0 0 24 24\"\n",
              "       width=\"24px\">\n",
              "    <path d=\"M0 0h24v24H0V0z\" fill=\"none\"/>\n",
              "    <path d=\"M18.56 5.44l.94 2.06.94-2.06 2.06-.94-2.06-.94-.94-2.06-.94 2.06-2.06.94zm-11 1L8.5 8.5l.94-2.06 2.06-.94-2.06-.94L8.5 2.5l-.94 2.06-2.06.94zm10 10l.94 2.06.94-2.06 2.06-.94-2.06-.94-.94-2.06-.94 2.06-2.06.94z\"/><path d=\"M17.41 7.96l-1.37-1.37c-.4-.4-.92-.59-1.43-.59-.52 0-1.04.2-1.43.59L10.3 9.45l-7.72 7.72c-.78.78-.78 2.05 0 2.83L4 21.41c.39.39.9.59 1.41.59.51 0 1.02-.2 1.41-.59l7.78-7.78 2.81-2.81c.8-.78.8-2.07 0-2.86zM5.41 20L4 18.59l7.72-7.72 1.47 1.35L5.41 20z\"/>\n",
              "  </svg>\n",
              "      </button>\n",
              "      \n",
              "  <style>\n",
              "    .colab-df-container {\n",
              "      display:flex;\n",
              "      flex-wrap:wrap;\n",
              "      gap: 12px;\n",
              "    }\n",
              "\n",
              "    .colab-df-convert {\n",
              "      background-color: #E8F0FE;\n",
              "      border: none;\n",
              "      border-radius: 50%;\n",
              "      cursor: pointer;\n",
              "      display: none;\n",
              "      fill: #1967D2;\n",
              "      height: 32px;\n",
              "      padding: 0 0 0 0;\n",
              "      width: 32px;\n",
              "    }\n",
              "\n",
              "    .colab-df-convert:hover {\n",
              "      background-color: #E2EBFA;\n",
              "      box-shadow: 0px 1px 2px rgba(60, 64, 67, 0.3), 0px 1px 3px 1px rgba(60, 64, 67, 0.15);\n",
              "      fill: #174EA6;\n",
              "    }\n",
              "\n",
              "    [theme=dark] .colab-df-convert {\n",
              "      background-color: #3B4455;\n",
              "      fill: #D2E3FC;\n",
              "    }\n",
              "\n",
              "    [theme=dark] .colab-df-convert:hover {\n",
              "      background-color: #434B5C;\n",
              "      box-shadow: 0px 1px 3px 1px rgba(0, 0, 0, 0.15);\n",
              "      filter: drop-shadow(0px 1px 2px rgba(0, 0, 0, 0.3));\n",
              "      fill: #FFFFFF;\n",
              "    }\n",
              "  </style>\n",
              "\n",
              "      <script>\n",
              "        const buttonEl =\n",
              "          document.querySelector('#df-3ceea565-935d-41b6-8d12-84f235722df9 button.colab-df-convert');\n",
              "        buttonEl.style.display =\n",
              "          google.colab.kernel.accessAllowed ? 'block' : 'none';\n",
              "\n",
              "        async function convertToInteractive(key) {\n",
              "          const element = document.querySelector('#df-3ceea565-935d-41b6-8d12-84f235722df9');\n",
              "          const dataTable =\n",
              "            await google.colab.kernel.invokeFunction('convertToInteractive',\n",
              "                                                     [key], {});\n",
              "          if (!dataTable) return;\n",
              "\n",
              "          const docLinkHtml = 'Like what you see? Visit the ' +\n",
              "            '<a target=\"_blank\" href=https://colab.research.google.com/notebooks/data_table.ipynb>data table notebook</a>'\n",
              "            + ' to learn more about interactive tables.';\n",
              "          element.innerHTML = '';\n",
              "          dataTable['output_type'] = 'display_data';\n",
              "          await google.colab.output.renderOutput(dataTable, element);\n",
              "          const docLink = document.createElement('div');\n",
              "          docLink.innerHTML = docLinkHtml;\n",
              "          element.appendChild(docLink);\n",
              "        }\n",
              "      </script>\n",
              "    </div>\n",
              "  </div>\n",
              "  "
            ]
          },
          "metadata": {},
          "execution_count": 3
        }
      ]
    },
    {
      "cell_type": "code",
      "execution_count": 4,
      "metadata": {
        "colab": {
          "base_uri": "https://localhost:8080/",
          "height": 270
        },
        "id": "tRa1dqO5c0gr",
        "outputId": "c8737169-fc8e-4ec1-cb49-ef59499aa8b4"
      },
      "outputs": [
        {
          "output_type": "execute_result",
          "data": {
            "text/plain": [
              "   Num  Net_worth  default  Total_assets  Total_income  \\\n",
              "0    1      -36.2        1         210.5         125.3   \n",
              "1    2      -35.7        1         674.4         939.6   \n",
              "2    3      -35.7        1         288.3           1.2   \n",
              "3    4      -35.5        1          32.2          30.3   \n",
              "4    5      -35.0        1         380.9          24.6   \n",
              "\n",
              "   PAT_as_%_of_total_income  PBDITA_as_%_of_total_income  \\\n",
              "0                -25.059856                   -10.454908   \n",
              "1                 -5.487016                    -0.723712   \n",
              "2              -2233.333333                 -1785.083333   \n",
              "3                -15.511551                    -6.930693   \n",
              "4               -208.943089                    -1.626016   \n",
              "\n",
              "   PBT_as_%_of_total_income  Cash_profit_as_%_of_total_income  Current_ratio  \\\n",
              "0                -25.059856                        -19.792498           0.86   \n",
              "1                 -5.487016                         -4.252448           0.87   \n",
              "2              -2175.000000                      -2100.000000           1.40   \n",
              "3                -15.181518                        -12.541254           0.44   \n",
              "4               -208.536585                       -142.276423           1.17   \n",
              "\n",
              "   Debt_to_equity_ratio  \n",
              "0                  2.99  \n",
              "1                 48.74  \n",
              "2                  0.28  \n",
              "3                 24.50  \n",
              "4                 10.37  "
            ],
            "text/html": [
              "\n",
              "  <div id=\"df-0725ccdd-bedb-49d1-be01-40800e5a4188\">\n",
              "    <div class=\"colab-df-container\">\n",
              "      <div>\n",
              "<style scoped>\n",
              "    .dataframe tbody tr th:only-of-type {\n",
              "        vertical-align: middle;\n",
              "    }\n",
              "\n",
              "    .dataframe tbody tr th {\n",
              "        vertical-align: top;\n",
              "    }\n",
              "\n",
              "    .dataframe thead th {\n",
              "        text-align: right;\n",
              "    }\n",
              "</style>\n",
              "<table border=\"1\" class=\"dataframe\">\n",
              "  <thead>\n",
              "    <tr style=\"text-align: right;\">\n",
              "      <th></th>\n",
              "      <th>Num</th>\n",
              "      <th>Net_worth</th>\n",
              "      <th>default</th>\n",
              "      <th>Total_assets</th>\n",
              "      <th>Total_income</th>\n",
              "      <th>PAT_as_%_of_total_income</th>\n",
              "      <th>PBDITA_as_%_of_total_income</th>\n",
              "      <th>PBT_as_%_of_total_income</th>\n",
              "      <th>Cash_profit_as_%_of_total_income</th>\n",
              "      <th>Current_ratio</th>\n",
              "      <th>Debt_to_equity_ratio</th>\n",
              "    </tr>\n",
              "  </thead>\n",
              "  <tbody>\n",
              "    <tr>\n",
              "      <th>0</th>\n",
              "      <td>1</td>\n",
              "      <td>-36.2</td>\n",
              "      <td>1</td>\n",
              "      <td>210.5</td>\n",
              "      <td>125.3</td>\n",
              "      <td>-25.059856</td>\n",
              "      <td>-10.454908</td>\n",
              "      <td>-25.059856</td>\n",
              "      <td>-19.792498</td>\n",
              "      <td>0.86</td>\n",
              "      <td>2.99</td>\n",
              "    </tr>\n",
              "    <tr>\n",
              "      <th>1</th>\n",
              "      <td>2</td>\n",
              "      <td>-35.7</td>\n",
              "      <td>1</td>\n",
              "      <td>674.4</td>\n",
              "      <td>939.6</td>\n",
              "      <td>-5.487016</td>\n",
              "      <td>-0.723712</td>\n",
              "      <td>-5.487016</td>\n",
              "      <td>-4.252448</td>\n",
              "      <td>0.87</td>\n",
              "      <td>48.74</td>\n",
              "    </tr>\n",
              "    <tr>\n",
              "      <th>2</th>\n",
              "      <td>3</td>\n",
              "      <td>-35.7</td>\n",
              "      <td>1</td>\n",
              "      <td>288.3</td>\n",
              "      <td>1.2</td>\n",
              "      <td>-2233.333333</td>\n",
              "      <td>-1785.083333</td>\n",
              "      <td>-2175.000000</td>\n",
              "      <td>-2100.000000</td>\n",
              "      <td>1.40</td>\n",
              "      <td>0.28</td>\n",
              "    </tr>\n",
              "    <tr>\n",
              "      <th>3</th>\n",
              "      <td>4</td>\n",
              "      <td>-35.5</td>\n",
              "      <td>1</td>\n",
              "      <td>32.2</td>\n",
              "      <td>30.3</td>\n",
              "      <td>-15.511551</td>\n",
              "      <td>-6.930693</td>\n",
              "      <td>-15.181518</td>\n",
              "      <td>-12.541254</td>\n",
              "      <td>0.44</td>\n",
              "      <td>24.50</td>\n",
              "    </tr>\n",
              "    <tr>\n",
              "      <th>4</th>\n",
              "      <td>5</td>\n",
              "      <td>-35.0</td>\n",
              "      <td>1</td>\n",
              "      <td>380.9</td>\n",
              "      <td>24.6</td>\n",
              "      <td>-208.943089</td>\n",
              "      <td>-1.626016</td>\n",
              "      <td>-208.536585</td>\n",
              "      <td>-142.276423</td>\n",
              "      <td>1.17</td>\n",
              "      <td>10.37</td>\n",
              "    </tr>\n",
              "  </tbody>\n",
              "</table>\n",
              "</div>\n",
              "      <button class=\"colab-df-convert\" onclick=\"convertToInteractive('df-0725ccdd-bedb-49d1-be01-40800e5a4188')\"\n",
              "              title=\"Convert this dataframe to an interactive table.\"\n",
              "              style=\"display:none;\">\n",
              "        \n",
              "  <svg xmlns=\"http://www.w3.org/2000/svg\" height=\"24px\"viewBox=\"0 0 24 24\"\n",
              "       width=\"24px\">\n",
              "    <path d=\"M0 0h24v24H0V0z\" fill=\"none\"/>\n",
              "    <path d=\"M18.56 5.44l.94 2.06.94-2.06 2.06-.94-2.06-.94-.94-2.06-.94 2.06-2.06.94zm-11 1L8.5 8.5l.94-2.06 2.06-.94-2.06-.94L8.5 2.5l-.94 2.06-2.06.94zm10 10l.94 2.06.94-2.06 2.06-.94-2.06-.94-.94-2.06-.94 2.06-2.06.94z\"/><path d=\"M17.41 7.96l-1.37-1.37c-.4-.4-.92-.59-1.43-.59-.52 0-1.04.2-1.43.59L10.3 9.45l-7.72 7.72c-.78.78-.78 2.05 0 2.83L4 21.41c.39.39.9.59 1.41.59.51 0 1.02-.2 1.41-.59l7.78-7.78 2.81-2.81c.8-.78.8-2.07 0-2.86zM5.41 20L4 18.59l7.72-7.72 1.47 1.35L5.41 20z\"/>\n",
              "  </svg>\n",
              "      </button>\n",
              "      \n",
              "  <style>\n",
              "    .colab-df-container {\n",
              "      display:flex;\n",
              "      flex-wrap:wrap;\n",
              "      gap: 12px;\n",
              "    }\n",
              "\n",
              "    .colab-df-convert {\n",
              "      background-color: #E8F0FE;\n",
              "      border: none;\n",
              "      border-radius: 50%;\n",
              "      cursor: pointer;\n",
              "      display: none;\n",
              "      fill: #1967D2;\n",
              "      height: 32px;\n",
              "      padding: 0 0 0 0;\n",
              "      width: 32px;\n",
              "    }\n",
              "\n",
              "    .colab-df-convert:hover {\n",
              "      background-color: #E2EBFA;\n",
              "      box-shadow: 0px 1px 2px rgba(60, 64, 67, 0.3), 0px 1px 3px 1px rgba(60, 64, 67, 0.15);\n",
              "      fill: #174EA6;\n",
              "    }\n",
              "\n",
              "    [theme=dark] .colab-df-convert {\n",
              "      background-color: #3B4455;\n",
              "      fill: #D2E3FC;\n",
              "    }\n",
              "\n",
              "    [theme=dark] .colab-df-convert:hover {\n",
              "      background-color: #434B5C;\n",
              "      box-shadow: 0px 1px 3px 1px rgba(0, 0, 0, 0.15);\n",
              "      filter: drop-shadow(0px 1px 2px rgba(0, 0, 0, 0.3));\n",
              "      fill: #FFFFFF;\n",
              "    }\n",
              "  </style>\n",
              "\n",
              "      <script>\n",
              "        const buttonEl =\n",
              "          document.querySelector('#df-0725ccdd-bedb-49d1-be01-40800e5a4188 button.colab-df-convert');\n",
              "        buttonEl.style.display =\n",
              "          google.colab.kernel.accessAllowed ? 'block' : 'none';\n",
              "\n",
              "        async function convertToInteractive(key) {\n",
              "          const element = document.querySelector('#df-0725ccdd-bedb-49d1-be01-40800e5a4188');\n",
              "          const dataTable =\n",
              "            await google.colab.kernel.invokeFunction('convertToInteractive',\n",
              "                                                     [key], {});\n",
              "          if (!dataTable) return;\n",
              "\n",
              "          const docLinkHtml = 'Like what you see? Visit the ' +\n",
              "            '<a target=\"_blank\" href=https://colab.research.google.com/notebooks/data_table.ipynb>data table notebook</a>'\n",
              "            + ' to learn more about interactive tables.';\n",
              "          element.innerHTML = '';\n",
              "          dataTable['output_type'] = 'display_data';\n",
              "          await google.colab.output.renderOutput(dataTable, element);\n",
              "          const docLink = document.createElement('div');\n",
              "          docLink.innerHTML = docLinkHtml;\n",
              "          element.appendChild(docLink);\n",
              "        }\n",
              "      </script>\n",
              "    </div>\n",
              "  </div>\n",
              "  "
            ]
          },
          "metadata": {},
          "execution_count": 4
        }
      ],
      "source": [
        "#Default = pd.read_csv('CompanyDefault.csv')\n",
        "\n",
        "#Glimpse of Data\n",
        "Default.head()"
      ]
    },
    {
      "cell_type": "markdown",
      "metadata": {
        "id": "J-hiNzvCc0gs"
      },
      "source": [
        "#### Fixing messy column names (containing spaces) for ease of use"
      ]
    },
    {
      "cell_type": "code",
      "execution_count": 5,
      "metadata": {
        "id": "QoUMY7fNc0gt"
      },
      "outputs": [],
      "source": [
        "Default.columns = Default.columns.str.replace('as_%_of', 'to')"
      ]
    },
    {
      "cell_type": "code",
      "execution_count": 7,
      "metadata": {
        "colab": {
          "base_uri": "https://localhost:8080/",
          "height": 270
        },
        "id": "-qtOBUX9c0gt",
        "outputId": "6349bfe9-72c9-4127-c83f-00949407e0ec"
      },
      "outputs": [
        {
          "output_type": "execute_result",
          "data": {
            "text/plain": [
              "   Num  Net_worth  default  Total_assets  Total_income  PAT_to_total_income  \\\n",
              "0    1      -36.2        1         210.5         125.3           -25.059856   \n",
              "1    2      -35.7        1         674.4         939.6            -5.487016   \n",
              "2    3      -35.7        1         288.3           1.2         -2233.333333   \n",
              "3    4      -35.5        1          32.2          30.3           -15.511551   \n",
              "4    5      -35.0        1         380.9          24.6          -208.943089   \n",
              "\n",
              "   PBDITA_to_total_income  PBT_to_total_income  Cash_profit_to_total_income  \\\n",
              "0              -10.454908           -25.059856                   -19.792498   \n",
              "1               -0.723712            -5.487016                    -4.252448   \n",
              "2            -1785.083333         -2175.000000                 -2100.000000   \n",
              "3               -6.930693           -15.181518                   -12.541254   \n",
              "4               -1.626016          -208.536585                  -142.276423   \n",
              "\n",
              "   Current_ratio  Debt_to_equity_ratio  \n",
              "0           0.86                  2.99  \n",
              "1           0.87                 48.74  \n",
              "2           1.40                  0.28  \n",
              "3           0.44                 24.50  \n",
              "4           1.17                 10.37  "
            ],
            "text/html": [
              "\n",
              "  <div id=\"df-55514855-159b-483c-a21c-a00c693851fa\">\n",
              "    <div class=\"colab-df-container\">\n",
              "      <div>\n",
              "<style scoped>\n",
              "    .dataframe tbody tr th:only-of-type {\n",
              "        vertical-align: middle;\n",
              "    }\n",
              "\n",
              "    .dataframe tbody tr th {\n",
              "        vertical-align: top;\n",
              "    }\n",
              "\n",
              "    .dataframe thead th {\n",
              "        text-align: right;\n",
              "    }\n",
              "</style>\n",
              "<table border=\"1\" class=\"dataframe\">\n",
              "  <thead>\n",
              "    <tr style=\"text-align: right;\">\n",
              "      <th></th>\n",
              "      <th>Num</th>\n",
              "      <th>Net_worth</th>\n",
              "      <th>default</th>\n",
              "      <th>Total_assets</th>\n",
              "      <th>Total_income</th>\n",
              "      <th>PAT_to_total_income</th>\n",
              "      <th>PBDITA_to_total_income</th>\n",
              "      <th>PBT_to_total_income</th>\n",
              "      <th>Cash_profit_to_total_income</th>\n",
              "      <th>Current_ratio</th>\n",
              "      <th>Debt_to_equity_ratio</th>\n",
              "    </tr>\n",
              "  </thead>\n",
              "  <tbody>\n",
              "    <tr>\n",
              "      <th>0</th>\n",
              "      <td>1</td>\n",
              "      <td>-36.2</td>\n",
              "      <td>1</td>\n",
              "      <td>210.5</td>\n",
              "      <td>125.3</td>\n",
              "      <td>-25.059856</td>\n",
              "      <td>-10.454908</td>\n",
              "      <td>-25.059856</td>\n",
              "      <td>-19.792498</td>\n",
              "      <td>0.86</td>\n",
              "      <td>2.99</td>\n",
              "    </tr>\n",
              "    <tr>\n",
              "      <th>1</th>\n",
              "      <td>2</td>\n",
              "      <td>-35.7</td>\n",
              "      <td>1</td>\n",
              "      <td>674.4</td>\n",
              "      <td>939.6</td>\n",
              "      <td>-5.487016</td>\n",
              "      <td>-0.723712</td>\n",
              "      <td>-5.487016</td>\n",
              "      <td>-4.252448</td>\n",
              "      <td>0.87</td>\n",
              "      <td>48.74</td>\n",
              "    </tr>\n",
              "    <tr>\n",
              "      <th>2</th>\n",
              "      <td>3</td>\n",
              "      <td>-35.7</td>\n",
              "      <td>1</td>\n",
              "      <td>288.3</td>\n",
              "      <td>1.2</td>\n",
              "      <td>-2233.333333</td>\n",
              "      <td>-1785.083333</td>\n",
              "      <td>-2175.000000</td>\n",
              "      <td>-2100.000000</td>\n",
              "      <td>1.40</td>\n",
              "      <td>0.28</td>\n",
              "    </tr>\n",
              "    <tr>\n",
              "      <th>3</th>\n",
              "      <td>4</td>\n",
              "      <td>-35.5</td>\n",
              "      <td>1</td>\n",
              "      <td>32.2</td>\n",
              "      <td>30.3</td>\n",
              "      <td>-15.511551</td>\n",
              "      <td>-6.930693</td>\n",
              "      <td>-15.181518</td>\n",
              "      <td>-12.541254</td>\n",
              "      <td>0.44</td>\n",
              "      <td>24.50</td>\n",
              "    </tr>\n",
              "    <tr>\n",
              "      <th>4</th>\n",
              "      <td>5</td>\n",
              "      <td>-35.0</td>\n",
              "      <td>1</td>\n",
              "      <td>380.9</td>\n",
              "      <td>24.6</td>\n",
              "      <td>-208.943089</td>\n",
              "      <td>-1.626016</td>\n",
              "      <td>-208.536585</td>\n",
              "      <td>-142.276423</td>\n",
              "      <td>1.17</td>\n",
              "      <td>10.37</td>\n",
              "    </tr>\n",
              "  </tbody>\n",
              "</table>\n",
              "</div>\n",
              "      <button class=\"colab-df-convert\" onclick=\"convertToInteractive('df-55514855-159b-483c-a21c-a00c693851fa')\"\n",
              "              title=\"Convert this dataframe to an interactive table.\"\n",
              "              style=\"display:none;\">\n",
              "        \n",
              "  <svg xmlns=\"http://www.w3.org/2000/svg\" height=\"24px\"viewBox=\"0 0 24 24\"\n",
              "       width=\"24px\">\n",
              "    <path d=\"M0 0h24v24H0V0z\" fill=\"none\"/>\n",
              "    <path d=\"M18.56 5.44l.94 2.06.94-2.06 2.06-.94-2.06-.94-.94-2.06-.94 2.06-2.06.94zm-11 1L8.5 8.5l.94-2.06 2.06-.94-2.06-.94L8.5 2.5l-.94 2.06-2.06.94zm10 10l.94 2.06.94-2.06 2.06-.94-2.06-.94-.94-2.06-.94 2.06-2.06.94z\"/><path d=\"M17.41 7.96l-1.37-1.37c-.4-.4-.92-.59-1.43-.59-.52 0-1.04.2-1.43.59L10.3 9.45l-7.72 7.72c-.78.78-.78 2.05 0 2.83L4 21.41c.39.39.9.59 1.41.59.51 0 1.02-.2 1.41-.59l7.78-7.78 2.81-2.81c.8-.78.8-2.07 0-2.86zM5.41 20L4 18.59l7.72-7.72 1.47 1.35L5.41 20z\"/>\n",
              "  </svg>\n",
              "      </button>\n",
              "      \n",
              "  <style>\n",
              "    .colab-df-container {\n",
              "      display:flex;\n",
              "      flex-wrap:wrap;\n",
              "      gap: 12px;\n",
              "    }\n",
              "\n",
              "    .colab-df-convert {\n",
              "      background-color: #E8F0FE;\n",
              "      border: none;\n",
              "      border-radius: 50%;\n",
              "      cursor: pointer;\n",
              "      display: none;\n",
              "      fill: #1967D2;\n",
              "      height: 32px;\n",
              "      padding: 0 0 0 0;\n",
              "      width: 32px;\n",
              "    }\n",
              "\n",
              "    .colab-df-convert:hover {\n",
              "      background-color: #E2EBFA;\n",
              "      box-shadow: 0px 1px 2px rgba(60, 64, 67, 0.3), 0px 1px 3px 1px rgba(60, 64, 67, 0.15);\n",
              "      fill: #174EA6;\n",
              "    }\n",
              "\n",
              "    [theme=dark] .colab-df-convert {\n",
              "      background-color: #3B4455;\n",
              "      fill: #D2E3FC;\n",
              "    }\n",
              "\n",
              "    [theme=dark] .colab-df-convert:hover {\n",
              "      background-color: #434B5C;\n",
              "      box-shadow: 0px 1px 3px 1px rgba(0, 0, 0, 0.15);\n",
              "      filter: drop-shadow(0px 1px 2px rgba(0, 0, 0, 0.3));\n",
              "      fill: #FFFFFF;\n",
              "    }\n",
              "  </style>\n",
              "\n",
              "      <script>\n",
              "        const buttonEl =\n",
              "          document.querySelector('#df-55514855-159b-483c-a21c-a00c693851fa button.colab-df-convert');\n",
              "        buttonEl.style.display =\n",
              "          google.colab.kernel.accessAllowed ? 'block' : 'none';\n",
              "\n",
              "        async function convertToInteractive(key) {\n",
              "          const element = document.querySelector('#df-55514855-159b-483c-a21c-a00c693851fa');\n",
              "          const dataTable =\n",
              "            await google.colab.kernel.invokeFunction('convertToInteractive',\n",
              "                                                     [key], {});\n",
              "          if (!dataTable) return;\n",
              "\n",
              "          const docLinkHtml = 'Like what you see? Visit the ' +\n",
              "            '<a target=\"_blank\" href=https://colab.research.google.com/notebooks/data_table.ipynb>data table notebook</a>'\n",
              "            + ' to learn more about interactive tables.';\n",
              "          element.innerHTML = '';\n",
              "          dataTable['output_type'] = 'display_data';\n",
              "          await google.colab.output.renderOutput(dataTable, element);\n",
              "          const docLink = document.createElement('div');\n",
              "          docLink.innerHTML = docLinkHtml;\n",
              "          element.appendChild(docLink);\n",
              "        }\n",
              "      </script>\n",
              "    </div>\n",
              "  </div>\n",
              "  "
            ]
          },
          "metadata": {},
          "execution_count": 7
        }
      ],
      "source": [
        "Default.head()"
      ]
    },
    {
      "cell_type": "markdown",
      "metadata": {
        "id": "z2s06lHGc0gu"
      },
      "source": [
        "#### First, let us check the number of rows (observations) and the number of columns (variables)."
      ]
    },
    {
      "cell_type": "code",
      "execution_count": 8,
      "metadata": {
        "colab": {
          "base_uri": "https://localhost:8080/"
        },
        "id": "dKR1VXwYc0gu",
        "outputId": "d299d98b-08ae-48ea-ebd3-dcb826264df8"
      },
      "outputs": [
        {
          "output_type": "stream",
          "name": "stdout",
          "text": [
            "The number of rows (observations) is 1384 \n",
            "The number of columns (variables) is 11\n"
          ]
        }
      ],
      "source": [
        "print('The number of rows (observations) is',Default.shape[0],'\\n''The number of columns (variables) is',Default.shape[1])"
      ]
    },
    {
      "cell_type": "markdown",
      "metadata": {
        "id": "rDZJD93nc0gv"
      },
      "source": [
        "#### Data types of all variables"
      ]
    },
    {
      "cell_type": "code",
      "execution_count": 9,
      "metadata": {
        "scrolled": true,
        "colab": {
          "base_uri": "https://localhost:8080/"
        },
        "id": "2f67_vHQc0gv",
        "outputId": "a92bc651-104d-4561-ebe5-db2e1184b8a4"
      },
      "outputs": [
        {
          "output_type": "stream",
          "name": "stdout",
          "text": [
            "<class 'pandas.core.frame.DataFrame'>\n",
            "RangeIndex: 1384 entries, 0 to 1383\n",
            "Data columns (total 11 columns):\n",
            " #   Column                       Non-Null Count  Dtype  \n",
            "---  ------                       --------------  -----  \n",
            " 0   Num                          1384 non-null   int64  \n",
            " 1   Net_worth                    1384 non-null   float64\n",
            " 2   default                      1384 non-null   int64  \n",
            " 3   Total_assets                 1384 non-null   float64\n",
            " 4   Total_income                 1384 non-null   float64\n",
            " 5   PAT_to_total_income          1384 non-null   float64\n",
            " 6   PBDITA_to_total_income       1384 non-null   float64\n",
            " 7   PBT_to_total_income          1384 non-null   float64\n",
            " 8   Cash_profit_to_total_income  1384 non-null   float64\n",
            " 9   Current_ratio                1384 non-null   float64\n",
            " 10  Debt_to_equity_ratio         1384 non-null   float64\n",
            "dtypes: float64(9), int64(2)\n",
            "memory usage: 119.1 KB\n"
          ]
        }
      ],
      "source": [
        "Default.info()"
      ]
    },
    {
      "cell_type": "code",
      "execution_count": 10,
      "metadata": {
        "colab": {
          "base_uri": "https://localhost:8080/"
        },
        "id": "hxsTdoKOc0gv",
        "outputId": "00fd4f5e-829f-4b90-f725-38bc9b40818b"
      },
      "outputs": [
        {
          "output_type": "execute_result",
          "data": {
            "text/plain": [
              "0"
            ]
          },
          "metadata": {},
          "execution_count": 10
        }
      ],
      "source": [
        "Default.duplicated().sum()"
      ]
    },
    {
      "cell_type": "code",
      "execution_count": 11,
      "metadata": {
        "id": "93n77MRFc0gv"
      },
      "outputs": [],
      "source": [
        "Default.drop('Num', axis = 1, inplace = True)"
      ]
    },
    {
      "cell_type": "markdown",
      "metadata": {
        "id": "0RE_IcAsc0gw"
      },
      "source": [
        "#### Now, let us check the basic measures of descriptive statistics for the continuous variables."
      ]
    },
    {
      "cell_type": "code",
      "execution_count": 13,
      "metadata": {
        "colab": {
          "base_uri": "https://localhost:8080/",
          "height": 363
        },
        "id": "1F1EuTzBc0gw",
        "outputId": "9a8f6de6-d90f-4569-81cc-1d92d68918de"
      },
      "outputs": [
        {
          "output_type": "execute_result",
          "data": {
            "text/plain": [
              "                              count        mean          std     min  \\\n",
              "Net_worth                    1384.0  122.504697  1299.293190   -36.2   \n",
              "default                      1384.0    0.234104     0.423591     0.0   \n",
              "Total_assets                 1384.0  256.762568   404.127921     0.5   \n",
              "Total_income                 1384.0  381.657131   583.461117     0.1   \n",
              "PAT_to_total_income          1384.0  -29.922088   346.245121 -9700.0   \n",
              "PBDITA_to_total_income       1384.0   -4.380180   218.854784 -6400.0   \n",
              "PBT_to_total_income          1384.0  -27.554086   332.137949 -9700.0   \n",
              "Cash_profit_to_total_income  1384.0  -16.239313   245.587280 -6400.0   \n",
              "Current_ratio                1384.0    1.771303     2.323773     0.0   \n",
              "Debt_to_equity_ratio         1384.0    3.394933    11.364884     0.0   \n",
              "\n",
              "                                   25%         50%         75%         max  \n",
              "Net_worth                     6.000000   22.950000  116.500000  48117.0000  \n",
              "default                       0.000000    0.000000    0.000000      1.0000  \n",
              "Total_assets                 25.800000  103.450000  296.825000   2275.9710  \n",
              "Total_income                 31.225000  187.550000  428.142581   3449.8260  \n",
              "PAT_to_total_income           0.000000    1.464327    4.075183    150.0000  \n",
              "PBDITA_to_total_income        3.501816    8.569963   13.438735    100.0000  \n",
              "PBT_to_total_income           0.000000    2.148565    5.345512    100.0000  \n",
              "Cash_profit_to_total_income   1.045456    4.638115    8.024023    100.0000  \n",
              "Current_ratio                 0.880000    1.230000    1.942500     18.7900  \n",
              "Debt_to_equity_ratio          0.187500    0.860000    1.970000     90.9441  "
            ],
            "text/html": [
              "\n",
              "  <div id=\"df-caeb6e1c-bdc4-40ea-83b7-b550362cd816\">\n",
              "    <div class=\"colab-df-container\">\n",
              "      <div>\n",
              "<style scoped>\n",
              "    .dataframe tbody tr th:only-of-type {\n",
              "        vertical-align: middle;\n",
              "    }\n",
              "\n",
              "    .dataframe tbody tr th {\n",
              "        vertical-align: top;\n",
              "    }\n",
              "\n",
              "    .dataframe thead th {\n",
              "        text-align: right;\n",
              "    }\n",
              "</style>\n",
              "<table border=\"1\" class=\"dataframe\">\n",
              "  <thead>\n",
              "    <tr style=\"text-align: right;\">\n",
              "      <th></th>\n",
              "      <th>count</th>\n",
              "      <th>mean</th>\n",
              "      <th>std</th>\n",
              "      <th>min</th>\n",
              "      <th>25%</th>\n",
              "      <th>50%</th>\n",
              "      <th>75%</th>\n",
              "      <th>max</th>\n",
              "    </tr>\n",
              "  </thead>\n",
              "  <tbody>\n",
              "    <tr>\n",
              "      <th>Net_worth</th>\n",
              "      <td>1384.0</td>\n",
              "      <td>122.504697</td>\n",
              "      <td>1299.293190</td>\n",
              "      <td>-36.2</td>\n",
              "      <td>6.000000</td>\n",
              "      <td>22.950000</td>\n",
              "      <td>116.500000</td>\n",
              "      <td>48117.0000</td>\n",
              "    </tr>\n",
              "    <tr>\n",
              "      <th>default</th>\n",
              "      <td>1384.0</td>\n",
              "      <td>0.234104</td>\n",
              "      <td>0.423591</td>\n",
              "      <td>0.0</td>\n",
              "      <td>0.000000</td>\n",
              "      <td>0.000000</td>\n",
              "      <td>0.000000</td>\n",
              "      <td>1.0000</td>\n",
              "    </tr>\n",
              "    <tr>\n",
              "      <th>Total_assets</th>\n",
              "      <td>1384.0</td>\n",
              "      <td>256.762568</td>\n",
              "      <td>404.127921</td>\n",
              "      <td>0.5</td>\n",
              "      <td>25.800000</td>\n",
              "      <td>103.450000</td>\n",
              "      <td>296.825000</td>\n",
              "      <td>2275.9710</td>\n",
              "    </tr>\n",
              "    <tr>\n",
              "      <th>Total_income</th>\n",
              "      <td>1384.0</td>\n",
              "      <td>381.657131</td>\n",
              "      <td>583.461117</td>\n",
              "      <td>0.1</td>\n",
              "      <td>31.225000</td>\n",
              "      <td>187.550000</td>\n",
              "      <td>428.142581</td>\n",
              "      <td>3449.8260</td>\n",
              "    </tr>\n",
              "    <tr>\n",
              "      <th>PAT_to_total_income</th>\n",
              "      <td>1384.0</td>\n",
              "      <td>-29.922088</td>\n",
              "      <td>346.245121</td>\n",
              "      <td>-9700.0</td>\n",
              "      <td>0.000000</td>\n",
              "      <td>1.464327</td>\n",
              "      <td>4.075183</td>\n",
              "      <td>150.0000</td>\n",
              "    </tr>\n",
              "    <tr>\n",
              "      <th>PBDITA_to_total_income</th>\n",
              "      <td>1384.0</td>\n",
              "      <td>-4.380180</td>\n",
              "      <td>218.854784</td>\n",
              "      <td>-6400.0</td>\n",
              "      <td>3.501816</td>\n",
              "      <td>8.569963</td>\n",
              "      <td>13.438735</td>\n",
              "      <td>100.0000</td>\n",
              "    </tr>\n",
              "    <tr>\n",
              "      <th>PBT_to_total_income</th>\n",
              "      <td>1384.0</td>\n",
              "      <td>-27.554086</td>\n",
              "      <td>332.137949</td>\n",
              "      <td>-9700.0</td>\n",
              "      <td>0.000000</td>\n",
              "      <td>2.148565</td>\n",
              "      <td>5.345512</td>\n",
              "      <td>100.0000</td>\n",
              "    </tr>\n",
              "    <tr>\n",
              "      <th>Cash_profit_to_total_income</th>\n",
              "      <td>1384.0</td>\n",
              "      <td>-16.239313</td>\n",
              "      <td>245.587280</td>\n",
              "      <td>-6400.0</td>\n",
              "      <td>1.045456</td>\n",
              "      <td>4.638115</td>\n",
              "      <td>8.024023</td>\n",
              "      <td>100.0000</td>\n",
              "    </tr>\n",
              "    <tr>\n",
              "      <th>Current_ratio</th>\n",
              "      <td>1384.0</td>\n",
              "      <td>1.771303</td>\n",
              "      <td>2.323773</td>\n",
              "      <td>0.0</td>\n",
              "      <td>0.880000</td>\n",
              "      <td>1.230000</td>\n",
              "      <td>1.942500</td>\n",
              "      <td>18.7900</td>\n",
              "    </tr>\n",
              "    <tr>\n",
              "      <th>Debt_to_equity_ratio</th>\n",
              "      <td>1384.0</td>\n",
              "      <td>3.394933</td>\n",
              "      <td>11.364884</td>\n",
              "      <td>0.0</td>\n",
              "      <td>0.187500</td>\n",
              "      <td>0.860000</td>\n",
              "      <td>1.970000</td>\n",
              "      <td>90.9441</td>\n",
              "    </tr>\n",
              "  </tbody>\n",
              "</table>\n",
              "</div>\n",
              "      <button class=\"colab-df-convert\" onclick=\"convertToInteractive('df-caeb6e1c-bdc4-40ea-83b7-b550362cd816')\"\n",
              "              title=\"Convert this dataframe to an interactive table.\"\n",
              "              style=\"display:none;\">\n",
              "        \n",
              "  <svg xmlns=\"http://www.w3.org/2000/svg\" height=\"24px\"viewBox=\"0 0 24 24\"\n",
              "       width=\"24px\">\n",
              "    <path d=\"M0 0h24v24H0V0z\" fill=\"none\"/>\n",
              "    <path d=\"M18.56 5.44l.94 2.06.94-2.06 2.06-.94-2.06-.94-.94-2.06-.94 2.06-2.06.94zm-11 1L8.5 8.5l.94-2.06 2.06-.94-2.06-.94L8.5 2.5l-.94 2.06-2.06.94zm10 10l.94 2.06.94-2.06 2.06-.94-2.06-.94-.94-2.06-.94 2.06-2.06.94z\"/><path d=\"M17.41 7.96l-1.37-1.37c-.4-.4-.92-.59-1.43-.59-.52 0-1.04.2-1.43.59L10.3 9.45l-7.72 7.72c-.78.78-.78 2.05 0 2.83L4 21.41c.39.39.9.59 1.41.59.51 0 1.02-.2 1.41-.59l7.78-7.78 2.81-2.81c.8-.78.8-2.07 0-2.86zM5.41 20L4 18.59l7.72-7.72 1.47 1.35L5.41 20z\"/>\n",
              "  </svg>\n",
              "      </button>\n",
              "      \n",
              "  <style>\n",
              "    .colab-df-container {\n",
              "      display:flex;\n",
              "      flex-wrap:wrap;\n",
              "      gap: 12px;\n",
              "    }\n",
              "\n",
              "    .colab-df-convert {\n",
              "      background-color: #E8F0FE;\n",
              "      border: none;\n",
              "      border-radius: 50%;\n",
              "      cursor: pointer;\n",
              "      display: none;\n",
              "      fill: #1967D2;\n",
              "      height: 32px;\n",
              "      padding: 0 0 0 0;\n",
              "      width: 32px;\n",
              "    }\n",
              "\n",
              "    .colab-df-convert:hover {\n",
              "      background-color: #E2EBFA;\n",
              "      box-shadow: 0px 1px 2px rgba(60, 64, 67, 0.3), 0px 1px 3px 1px rgba(60, 64, 67, 0.15);\n",
              "      fill: #174EA6;\n",
              "    }\n",
              "\n",
              "    [theme=dark] .colab-df-convert {\n",
              "      background-color: #3B4455;\n",
              "      fill: #D2E3FC;\n",
              "    }\n",
              "\n",
              "    [theme=dark] .colab-df-convert:hover {\n",
              "      background-color: #434B5C;\n",
              "      box-shadow: 0px 1px 3px 1px rgba(0, 0, 0, 0.15);\n",
              "      filter: drop-shadow(0px 1px 2px rgba(0, 0, 0, 0.3));\n",
              "      fill: #FFFFFF;\n",
              "    }\n",
              "  </style>\n",
              "\n",
              "      <script>\n",
              "        const buttonEl =\n",
              "          document.querySelector('#df-caeb6e1c-bdc4-40ea-83b7-b550362cd816 button.colab-df-convert');\n",
              "        buttonEl.style.display =\n",
              "          google.colab.kernel.accessAllowed ? 'block' : 'none';\n",
              "\n",
              "        async function convertToInteractive(key) {\n",
              "          const element = document.querySelector('#df-caeb6e1c-bdc4-40ea-83b7-b550362cd816');\n",
              "          const dataTable =\n",
              "            await google.colab.kernel.invokeFunction('convertToInteractive',\n",
              "                                                     [key], {});\n",
              "          if (!dataTable) return;\n",
              "\n",
              "          const docLinkHtml = 'Like what you see? Visit the ' +\n",
              "            '<a target=\"_blank\" href=https://colab.research.google.com/notebooks/data_table.ipynb>data table notebook</a>'\n",
              "            + ' to learn more about interactive tables.';\n",
              "          element.innerHTML = '';\n",
              "          dataTable['output_type'] = 'display_data';\n",
              "          await google.colab.output.renderOutput(dataTable, element);\n",
              "          const docLink = document.createElement('div');\n",
              "          docLink.innerHTML = docLinkHtml;\n",
              "          element.appendChild(docLink);\n",
              "        }\n",
              "      </script>\n",
              "    </div>\n",
              "  </div>\n",
              "  "
            ]
          },
          "metadata": {},
          "execution_count": 13
        }
      ],
      "source": [
        "Default.describe().T"
      ]
    },
    {
      "cell_type": "markdown",
      "metadata": {
        "id": "UCXe98eic0gw"
      },
      "source": [
        "#### Now, let us check the basic measures of descriptive statistics for the categorical variables."
      ]
    },
    {
      "cell_type": "code",
      "execution_count": 14,
      "metadata": {
        "colab": {
          "base_uri": "https://localhost:8080/"
        },
        "id": "6t__uFrZc0gw",
        "outputId": "d43caa38-45da-48e3-af24-1311c6513124"
      },
      "outputs": [
        {
          "output_type": "execute_result",
          "data": {
            "text/plain": [
              "0    1060\n",
              "1     324\n",
              "Name: default, dtype: int64"
            ]
          },
          "metadata": {},
          "execution_count": 14
        }
      ],
      "source": [
        "Default[\"default\"].value_counts()"
      ]
    },
    {
      "cell_type": "markdown",
      "metadata": {
        "id": "pwHJ5fVtc0gx"
      },
      "source": [
        "#### Checking proportion of default"
      ]
    },
    {
      "cell_type": "code",
      "execution_count": null,
      "metadata": {
        "id": "YApcV8FSc0gx",
        "outputId": "a79dceac-d80f-4b1d-f708-7de13293f591"
      },
      "outputs": [
        {
          "data": {
            "text/plain": [
              "0.23410404624277456"
            ]
          },
          "execution_count": 11,
          "metadata": {},
          "output_type": "execute_result"
        }
      ],
      "source": [
        "Default.default.sum() / len(Default.default)"
      ]
    },
    {
      "cell_type": "markdown",
      "metadata": {
        "id": "o4FXih_hc0gx"
      },
      "source": [
        "#### Check for missing values"
      ]
    },
    {
      "cell_type": "code",
      "execution_count": 15,
      "metadata": {
        "colab": {
          "base_uri": "https://localhost:8080/"
        },
        "id": "O4ZMge7rc0gx",
        "outputId": "23f49172-5bbe-4ac9-c492-fccc43e1bb14"
      },
      "outputs": [
        {
          "output_type": "execute_result",
          "data": {
            "text/plain": [
              "Net_worth                      0\n",
              "default                        0\n",
              "Total_assets                   0\n",
              "Total_income                   0\n",
              "PAT_to_total_income            0\n",
              "PBDITA_to_total_income         0\n",
              "PBT_to_total_income            0\n",
              "Cash_profit_to_total_income    0\n",
              "Current_ratio                  0\n",
              "Debt_to_equity_ratio           0\n",
              "dtype: int64"
            ]
          },
          "metadata": {},
          "execution_count": 15
        }
      ],
      "source": [
        "Default.isnull().sum()"
      ]
    },
    {
      "cell_type": "markdown",
      "metadata": {
        "id": "vlBuga8pc0gx"
      },
      "source": [
        "There are no missing values in the dataset."
      ]
    },
    {
      "cell_type": "markdown",
      "metadata": {
        "id": "3VTZdNk4c0gy"
      },
      "source": [
        "#### Getting Top 5 rows"
      ]
    },
    {
      "cell_type": "code",
      "execution_count": 16,
      "metadata": {
        "colab": {
          "base_uri": "https://localhost:8080/",
          "height": 270
        },
        "id": "s_3OBB2sc0gy",
        "outputId": "a37ec74b-353a-445e-d0e5-1ec7915da1a5"
      },
      "outputs": [
        {
          "output_type": "execute_result",
          "data": {
            "text/plain": [
              "   Net_worth  default  Total_assets  Total_income  PAT_to_total_income  \\\n",
              "0      -36.2        1         210.5         125.3           -25.059856   \n",
              "1      -35.7        1         674.4         939.6            -5.487016   \n",
              "2      -35.7        1         288.3           1.2         -2233.333333   \n",
              "3      -35.5        1          32.2          30.3           -15.511551   \n",
              "4      -35.0        1         380.9          24.6          -208.943089   \n",
              "\n",
              "   PBDITA_to_total_income  PBT_to_total_income  Cash_profit_to_total_income  \\\n",
              "0              -10.454908           -25.059856                   -19.792498   \n",
              "1               -0.723712            -5.487016                    -4.252448   \n",
              "2            -1785.083333         -2175.000000                 -2100.000000   \n",
              "3               -6.930693           -15.181518                   -12.541254   \n",
              "4               -1.626016          -208.536585                  -142.276423   \n",
              "\n",
              "   Current_ratio  Debt_to_equity_ratio  \n",
              "0           0.86                  2.99  \n",
              "1           0.87                 48.74  \n",
              "2           1.40                  0.28  \n",
              "3           0.44                 24.50  \n",
              "4           1.17                 10.37  "
            ],
            "text/html": [
              "\n",
              "  <div id=\"df-b9fd2cc7-5000-4313-80c7-5d373dc130fe\">\n",
              "    <div class=\"colab-df-container\">\n",
              "      <div>\n",
              "<style scoped>\n",
              "    .dataframe tbody tr th:only-of-type {\n",
              "        vertical-align: middle;\n",
              "    }\n",
              "\n",
              "    .dataframe tbody tr th {\n",
              "        vertical-align: top;\n",
              "    }\n",
              "\n",
              "    .dataframe thead th {\n",
              "        text-align: right;\n",
              "    }\n",
              "</style>\n",
              "<table border=\"1\" class=\"dataframe\">\n",
              "  <thead>\n",
              "    <tr style=\"text-align: right;\">\n",
              "      <th></th>\n",
              "      <th>Net_worth</th>\n",
              "      <th>default</th>\n",
              "      <th>Total_assets</th>\n",
              "      <th>Total_income</th>\n",
              "      <th>PAT_to_total_income</th>\n",
              "      <th>PBDITA_to_total_income</th>\n",
              "      <th>PBT_to_total_income</th>\n",
              "      <th>Cash_profit_to_total_income</th>\n",
              "      <th>Current_ratio</th>\n",
              "      <th>Debt_to_equity_ratio</th>\n",
              "    </tr>\n",
              "  </thead>\n",
              "  <tbody>\n",
              "    <tr>\n",
              "      <th>0</th>\n",
              "      <td>-36.2</td>\n",
              "      <td>1</td>\n",
              "      <td>210.5</td>\n",
              "      <td>125.3</td>\n",
              "      <td>-25.059856</td>\n",
              "      <td>-10.454908</td>\n",
              "      <td>-25.059856</td>\n",
              "      <td>-19.792498</td>\n",
              "      <td>0.86</td>\n",
              "      <td>2.99</td>\n",
              "    </tr>\n",
              "    <tr>\n",
              "      <th>1</th>\n",
              "      <td>-35.7</td>\n",
              "      <td>1</td>\n",
              "      <td>674.4</td>\n",
              "      <td>939.6</td>\n",
              "      <td>-5.487016</td>\n",
              "      <td>-0.723712</td>\n",
              "      <td>-5.487016</td>\n",
              "      <td>-4.252448</td>\n",
              "      <td>0.87</td>\n",
              "      <td>48.74</td>\n",
              "    </tr>\n",
              "    <tr>\n",
              "      <th>2</th>\n",
              "      <td>-35.7</td>\n",
              "      <td>1</td>\n",
              "      <td>288.3</td>\n",
              "      <td>1.2</td>\n",
              "      <td>-2233.333333</td>\n",
              "      <td>-1785.083333</td>\n",
              "      <td>-2175.000000</td>\n",
              "      <td>-2100.000000</td>\n",
              "      <td>1.40</td>\n",
              "      <td>0.28</td>\n",
              "    </tr>\n",
              "    <tr>\n",
              "      <th>3</th>\n",
              "      <td>-35.5</td>\n",
              "      <td>1</td>\n",
              "      <td>32.2</td>\n",
              "      <td>30.3</td>\n",
              "      <td>-15.511551</td>\n",
              "      <td>-6.930693</td>\n",
              "      <td>-15.181518</td>\n",
              "      <td>-12.541254</td>\n",
              "      <td>0.44</td>\n",
              "      <td>24.50</td>\n",
              "    </tr>\n",
              "    <tr>\n",
              "      <th>4</th>\n",
              "      <td>-35.0</td>\n",
              "      <td>1</td>\n",
              "      <td>380.9</td>\n",
              "      <td>24.6</td>\n",
              "      <td>-208.943089</td>\n",
              "      <td>-1.626016</td>\n",
              "      <td>-208.536585</td>\n",
              "      <td>-142.276423</td>\n",
              "      <td>1.17</td>\n",
              "      <td>10.37</td>\n",
              "    </tr>\n",
              "  </tbody>\n",
              "</table>\n",
              "</div>\n",
              "      <button class=\"colab-df-convert\" onclick=\"convertToInteractive('df-b9fd2cc7-5000-4313-80c7-5d373dc130fe')\"\n",
              "              title=\"Convert this dataframe to an interactive table.\"\n",
              "              style=\"display:none;\">\n",
              "        \n",
              "  <svg xmlns=\"http://www.w3.org/2000/svg\" height=\"24px\"viewBox=\"0 0 24 24\"\n",
              "       width=\"24px\">\n",
              "    <path d=\"M0 0h24v24H0V0z\" fill=\"none\"/>\n",
              "    <path d=\"M18.56 5.44l.94 2.06.94-2.06 2.06-.94-2.06-.94-.94-2.06-.94 2.06-2.06.94zm-11 1L8.5 8.5l.94-2.06 2.06-.94-2.06-.94L8.5 2.5l-.94 2.06-2.06.94zm10 10l.94 2.06.94-2.06 2.06-.94-2.06-.94-.94-2.06-.94 2.06-2.06.94z\"/><path d=\"M17.41 7.96l-1.37-1.37c-.4-.4-.92-.59-1.43-.59-.52 0-1.04.2-1.43.59L10.3 9.45l-7.72 7.72c-.78.78-.78 2.05 0 2.83L4 21.41c.39.39.9.59 1.41.59.51 0 1.02-.2 1.41-.59l7.78-7.78 2.81-2.81c.8-.78.8-2.07 0-2.86zM5.41 20L4 18.59l7.72-7.72 1.47 1.35L5.41 20z\"/>\n",
              "  </svg>\n",
              "      </button>\n",
              "      \n",
              "  <style>\n",
              "    .colab-df-container {\n",
              "      display:flex;\n",
              "      flex-wrap:wrap;\n",
              "      gap: 12px;\n",
              "    }\n",
              "\n",
              "    .colab-df-convert {\n",
              "      background-color: #E8F0FE;\n",
              "      border: none;\n",
              "      border-radius: 50%;\n",
              "      cursor: pointer;\n",
              "      display: none;\n",
              "      fill: #1967D2;\n",
              "      height: 32px;\n",
              "      padding: 0 0 0 0;\n",
              "      width: 32px;\n",
              "    }\n",
              "\n",
              "    .colab-df-convert:hover {\n",
              "      background-color: #E2EBFA;\n",
              "      box-shadow: 0px 1px 2px rgba(60, 64, 67, 0.3), 0px 1px 3px 1px rgba(60, 64, 67, 0.15);\n",
              "      fill: #174EA6;\n",
              "    }\n",
              "\n",
              "    [theme=dark] .colab-df-convert {\n",
              "      background-color: #3B4455;\n",
              "      fill: #D2E3FC;\n",
              "    }\n",
              "\n",
              "    [theme=dark] .colab-df-convert:hover {\n",
              "      background-color: #434B5C;\n",
              "      box-shadow: 0px 1px 3px 1px rgba(0, 0, 0, 0.15);\n",
              "      filter: drop-shadow(0px 1px 2px rgba(0, 0, 0, 0.3));\n",
              "      fill: #FFFFFF;\n",
              "    }\n",
              "  </style>\n",
              "\n",
              "      <script>\n",
              "        const buttonEl =\n",
              "          document.querySelector('#df-b9fd2cc7-5000-4313-80c7-5d373dc130fe button.colab-df-convert');\n",
              "        buttonEl.style.display =\n",
              "          google.colab.kernel.accessAllowed ? 'block' : 'none';\n",
              "\n",
              "        async function convertToInteractive(key) {\n",
              "          const element = document.querySelector('#df-b9fd2cc7-5000-4313-80c7-5d373dc130fe');\n",
              "          const dataTable =\n",
              "            await google.colab.kernel.invokeFunction('convertToInteractive',\n",
              "                                                     [key], {});\n",
              "          if (!dataTable) return;\n",
              "\n",
              "          const docLinkHtml = 'Like what you see? Visit the ' +\n",
              "            '<a target=\"_blank\" href=https://colab.research.google.com/notebooks/data_table.ipynb>data table notebook</a>'\n",
              "            + ' to learn more about interactive tables.';\n",
              "          element.innerHTML = '';\n",
              "          dataTable['output_type'] = 'display_data';\n",
              "          await google.colab.output.renderOutput(dataTable, element);\n",
              "          const docLink = document.createElement('div');\n",
              "          docLink.innerHTML = docLinkHtml;\n",
              "          element.appendChild(docLink);\n",
              "        }\n",
              "      </script>\n",
              "    </div>\n",
              "  </div>\n",
              "  "
            ]
          },
          "metadata": {},
          "execution_count": 16
        }
      ],
      "source": [
        "Default.head()"
      ]
    },
    {
      "cell_type": "markdown",
      "metadata": {
        "id": "RIEqjQHjc0gy"
      },
      "source": [
        "### Correlation heatmap"
      ]
    },
    {
      "cell_type": "code",
      "execution_count": 17,
      "metadata": {
        "colab": {
          "base_uri": "https://localhost:8080/",
          "height": 677
        },
        "id": "bCOatY-yc0gy",
        "outputId": "5656fc39-7bc5-4874-fe01-85940801fab7"
      },
      "outputs": [
        {
          "output_type": "display_data",
          "data": {
            "text/plain": [
              "<Figure size 720x720 with 2 Axes>"
            ],
            "image/png": "[encoded data removed]"
          },
          "metadata": {
            "needs_background": "light"
          }
        }
      ],
      "source": [
        "#calculate column correlations and make a seaborn heatmap - Before standardisation\n",
        "\n",
        "plt.figure(figsize=(10,10))  # setting the size of figure to 12 by 10\n",
        "p=sns.heatmap(Default.corr(), annot=True,cmap='coolwarm',square=True)"
      ]
    },
    {
      "cell_type": "markdown",
      "metadata": {
        "id": "9rPLK8w8c0gy"
      },
      "source": [
        "- Vaiables such as PAT_as_perc_of_total_income, PBDITA_as_perc_of_total_income, PBT_as_perc_of_total_income, Cash_profit_as_perc_of_total_income  are highly correlated among themselves\n",
        "- Total income & Total assets seem to be highly correlated with each other"
      ]
    },
    {
      "cell_type": "code",
      "source": [
        "Default.corr()['default']"
      ],
      "metadata": {
        "colab": {
          "base_uri": "https://localhost:8080/"
        },
        "id": "hAUwj1ese820",
        "outputId": "a78a1d22-f2aa-4e0e-a0f8-6145ff2137f5"
      },
      "execution_count": 18,
      "outputs": [
        {
          "output_type": "execute_result",
          "data": {
            "text/plain": [
              "Net_worth                     -0.053352\n",
              "default                        1.000000\n",
              "Total_assets                  -0.206269\n",
              "Total_income                  -0.159594\n",
              "PAT_to_total_income           -0.077227\n",
              "PBDITA_to_total_income        -0.038376\n",
              "PBT_to_total_income           -0.071386\n",
              "Cash_profit_to_total_income   -0.073467\n",
              "Current_ratio                  0.015852\n",
              "Debt_to_equity_ratio           0.288574\n",
              "Name: default, dtype: float64"
            ]
          },
          "metadata": {},
          "execution_count": 18
        }
      ]
    },
    {
      "cell_type": "markdown",
      "metadata": {
        "id": "WN6u66Msc0gy"
      },
      "source": [
        "# Model Building using Logistic Regression for 'Probability at default'"
      ]
    },
    {
      "cell_type": "markdown",
      "metadata": {
        "id": "hS-ZqMHQc0gz"
      },
      "source": [
        "## The equation of the Logistic Regression by which we predict the corresponding probabilities and then go on predict a discrete target variable is\n",
        "# y = $\\frac{1}{1 + {e^{-z}}}$\n",
        "\n",
        "### Note: z  = $\\beta_0$ +${\\sum_{i=1}^{n}(\\beta_i  X_1)}$"
      ]
    },
    {
      "cell_type": "markdown",
      "metadata": {
        "id": "bFJJyBHbc0gz"
      },
      "source": [
        "#### Now, Importing statsmodels modules"
      ]
    },
    {
      "cell_type": "markdown",
      "metadata": {
        "id": "sQTSDFW3c0gz"
      },
      "source": [
        "#### Creating logistic regression equation & storing it in f_1\n",
        "\n",
        "model = SM.logit(formula=’Dependent Variable ~ Σ𝐼𝑛𝑑𝑒𝑝𝑒𝑛𝑑𝑒𝑛𝑡 𝑉𝑎𝑟𝑖𝑎𝑏𝑙𝑒𝑠 (𝑘)’\n",
        "               data = ‘Data Frame containing the required values’).fit()"
      ]
    },
    {
      "cell_type": "markdown",
      "metadata": {
        "id": "2K6CkbHUc0gz"
      },
      "source": [
        "## Feature Selection\n",
        "\n",
        "The optimal machine learning problem approach is to perform extensive EDA on dataset and understand properties of the predictors before even getting into training models on these variables. However, this is not always possible. Sometimes the dataset has lot many variables; sometimes even hundreds or even thousands of variables, which can quickly outrun human comprehension.\n",
        "\n",
        "Feature selection is the process of tuning down the number of predictor variables used by the models you build.\n",
        "\n",
        "For example, when faced with two models with the same or nearly the same score, but with the latter model using more variables, your immediate instinct should be to choose the one with fewer variables. That model is simpler to train, simpler to understand, easier to run, and less time consuming. \n",
        "\n",
        "Lets start with feature selection using manual backward selection method:"
      ]
    },
    {
      "cell_type": "markdown",
      "metadata": {
        "id": "9T2CDXgCc0gz"
      },
      "source": [
        "#### Checking the Net_worth column with respect to default"
      ]
    },
    {
      "cell_type": "code",
      "execution_count": 19,
      "metadata": {
        "colab": {
          "base_uri": "https://localhost:8080/",
          "height": 281
        },
        "id": "E2EQ7T6Vc0g0",
        "outputId": "da398f68-5189-4b69-b374-5779736db2dd"
      },
      "outputs": [
        {
          "output_type": "display_data",
          "data": {
            "text/plain": [
              "<Figure size 432x288 with 1 Axes>"
            ],
            "image/png": "[encoded data removed]"
          },
          "metadata": {
            "needs_background": "light"
          }
        }
      ],
      "source": [
        "sns.boxplot(Default['default'], Default['Net_worth']);"
      ]
    },
    {
      "cell_type": "code",
      "execution_count": 20,
      "metadata": {
        "id": "_2d4h9imc0g0"
      },
      "outputs": [],
      "source": [
        "median = Default['Net_worth'].median()\n",
        "Default['Net_worth'] = np.where(Default['Net_worth'] > 40000, median, Default['Net_worth'])"
      ]
    },
    {
      "cell_type": "code",
      "execution_count": null,
      "metadata": {
        "id": "Kdvn0Grxc0g0",
        "outputId": "ec278b49-b495-4549-910c-d359afdbe4bd"
      },
      "outputs": [
        {
          "data": {
            "image/png": "[encoded data removed]",
            "text/plain": [
              "<Figure size 432x288 with 1 Axes>"
            ]
          },
          "metadata": {
            "needs_background": "light"
          },
          "output_type": "display_data"
        }
      ],
      "source": [
        "sns.boxplot(Default['default'], Default['Net_worth']);"
      ]
    },
    {
      "cell_type": "code",
      "execution_count": 21,
      "metadata": {
        "colab": {
          "base_uri": "https://localhost:8080/",
          "height": 175
        },
        "id": "1MEjkLQnc0g0",
        "outputId": "444b4d80-65b1-4aab-f060-d275b136731d"
      },
      "outputs": [
        {
          "output_type": "execute_result",
          "data": {
            "text/plain": [
              "        Net_worth                                                            \n",
              "            count        mean         std   min     25%   50%      75%    max\n",
              "default                                                                      \n",
              "0          1060.0  115.443538  156.997975   5.1  17.200  92.7  130.425  761.6\n",
              "1           324.0   -2.832407    8.283433 -36.2  -4.025  -0.3    2.400    5.0"
            ],
            "text/html": [
              "\n",
              "  <div id=\"df-f5c1f62c-d215-42ab-b1bd-8c48ce3cbc79\">\n",
              "    <div class=\"colab-df-container\">\n",
              "      <div>\n",
              "<style scoped>\n",
              "    .dataframe tbody tr th:only-of-type {\n",
              "        vertical-align: middle;\n",
              "    }\n",
              "\n",
              "    .dataframe tbody tr th {\n",
              "        vertical-align: top;\n",
              "    }\n",
              "\n",
              "    .dataframe thead tr th {\n",
              "        text-align: left;\n",
              "    }\n",
              "\n",
              "    .dataframe thead tr:last-of-type th {\n",
              "        text-align: right;\n",
              "    }\n",
              "</style>\n",
              "<table border=\"1\" class=\"dataframe\">\n",
              "  <thead>\n",
              "    <tr>\n",
              "      <th></th>\n",
              "      <th colspan=\"8\" halign=\"left\">Net_worth</th>\n",
              "    </tr>\n",
              "    <tr>\n",
              "      <th></th>\n",
              "      <th>count</th>\n",
              "      <th>mean</th>\n",
              "      <th>std</th>\n",
              "      <th>min</th>\n",
              "      <th>25%</th>\n",
              "      <th>50%</th>\n",
              "      <th>75%</th>\n",
              "      <th>max</th>\n",
              "    </tr>\n",
              "    <tr>\n",
              "      <th>default</th>\n",
              "      <th></th>\n",
              "      <th></th>\n",
              "      <th></th>\n",
              "      <th></th>\n",
              "      <th></th>\n",
              "      <th></th>\n",
              "      <th></th>\n",
              "      <th></th>\n",
              "    </tr>\n",
              "  </thead>\n",
              "  <tbody>\n",
              "    <tr>\n",
              "      <th>0</th>\n",
              "      <td>1060.0</td>\n",
              "      <td>115.443538</td>\n",
              "      <td>156.997975</td>\n",
              "      <td>5.1</td>\n",
              "      <td>17.200</td>\n",
              "      <td>92.7</td>\n",
              "      <td>130.425</td>\n",
              "      <td>761.6</td>\n",
              "    </tr>\n",
              "    <tr>\n",
              "      <th>1</th>\n",
              "      <td>324.0</td>\n",
              "      <td>-2.832407</td>\n",
              "      <td>8.283433</td>\n",
              "      <td>-36.2</td>\n",
              "      <td>-4.025</td>\n",
              "      <td>-0.3</td>\n",
              "      <td>2.400</td>\n",
              "      <td>5.0</td>\n",
              "    </tr>\n",
              "  </tbody>\n",
              "</table>\n",
              "</div>\n",
              "      <button class=\"colab-df-convert\" onclick=\"convertToInteractive('df-f5c1f62c-d215-42ab-b1bd-8c48ce3cbc79')\"\n",
              "              title=\"Convert this dataframe to an interactive table.\"\n",
              "              style=\"display:none;\">\n",
              "        \n",
              "  <svg xmlns=\"http://www.w3.org/2000/svg\" height=\"24px\"viewBox=\"0 0 24 24\"\n",
              "       width=\"24px\">\n",
              "    <path d=\"M0 0h24v24H0V0z\" fill=\"none\"/>\n",
              "    <path d=\"M18.56 5.44l.94 2.06.94-2.06 2.06-.94-2.06-.94-.94-2.06-.94 2.06-2.06.94zm-11 1L8.5 8.5l.94-2.06 2.06-.94-2.06-.94L8.5 2.5l-.94 2.06-2.06.94zm10 10l.94 2.06.94-2.06 2.06-.94-2.06-.94-.94-2.06-.94 2.06-2.06.94z\"/><path d=\"M17.41 7.96l-1.37-1.37c-.4-.4-.92-.59-1.43-.59-.52 0-1.04.2-1.43.59L10.3 9.45l-7.72 7.72c-.78.78-.78 2.05 0 2.83L4 21.41c.39.39.9.59 1.41.59.51 0 1.02-.2 1.41-.59l7.78-7.78 2.81-2.81c.8-.78.8-2.07 0-2.86zM5.41 20L4 18.59l7.72-7.72 1.47 1.35L5.41 20z\"/>\n",
              "  </svg>\n",
              "      </button>\n",
              "      \n",
              "  <style>\n",
              "    .colab-df-container {\n",
              "      display:flex;\n",
              "      flex-wrap:wrap;\n",
              "      gap: 12px;\n",
              "    }\n",
              "\n",
              "    .colab-df-convert {\n",
              "      background-color: #E8F0FE;\n",
              "      border: none;\n",
              "      border-radius: 50%;\n",
              "      cursor: pointer;\n",
              "      display: none;\n",
              "      fill: #1967D2;\n",
              "      height: 32px;\n",
              "      padding: 0 0 0 0;\n",
              "      width: 32px;\n",
              "    }\n",
              "\n",
              "    .colab-df-convert:hover {\n",
              "      background-color: #E2EBFA;\n",
              "      box-shadow: 0px 1px 2px rgba(60, 64, 67, 0.3), 0px 1px 3px 1px rgba(60, 64, 67, 0.15);\n",
              "      fill: #174EA6;\n",
              "    }\n",
              "\n",
              "    [theme=dark] .colab-df-convert {\n",
              "      background-color: #3B4455;\n",
              "      fill: #D2E3FC;\n",
              "    }\n",
              "\n",
              "    [theme=dark] .colab-df-convert:hover {\n",
              "      background-color: #434B5C;\n",
              "      box-shadow: 0px 1px 3px 1px rgba(0, 0, 0, 0.15);\n",
              "      filter: drop-shadow(0px 1px 2px rgba(0, 0, 0, 0.3));\n",
              "      fill: #FFFFFF;\n",
              "    }\n",
              "  </style>\n",
              "\n",
              "      <script>\n",
              "        const buttonEl =\n",
              "          document.querySelector('#df-f5c1f62c-d215-42ab-b1bd-8c48ce3cbc79 button.colab-df-convert');\n",
              "        buttonEl.style.display =\n",
              "          google.colab.kernel.accessAllowed ? 'block' : 'none';\n",
              "\n",
              "        async function convertToInteractive(key) {\n",
              "          const element = document.querySelector('#df-f5c1f62c-d215-42ab-b1bd-8c48ce3cbc79');\n",
              "          const dataTable =\n",
              "            await google.colab.kernel.invokeFunction('convertToInteractive',\n",
              "                                                     [key], {});\n",
              "          if (!dataTable) return;\n",
              "\n",
              "          const docLinkHtml = 'Like what you see? Visit the ' +\n",
              "            '<a target=\"_blank\" href=https://colab.research.google.com/notebooks/data_table.ipynb>data table notebook</a>'\n",
              "            + ' to learn more about interactive tables.';\n",
              "          element.innerHTML = '';\n",
              "          dataTable['output_type'] = 'display_data';\n",
              "          await google.colab.output.renderOutput(dataTable, element);\n",
              "          const docLink = document.createElement('div');\n",
              "          docLink.innerHTML = docLinkHtml;\n",
              "          element.appendChild(docLink);\n",
              "        }\n",
              "      </script>\n",
              "    </div>\n",
              "  </div>\n",
              "  "
            ]
          },
          "metadata": {},
          "execution_count": 21
        }
      ],
      "source": [
        "Default[['default', 'Net_worth']].groupby('default').describe()"
      ]
    },
    {
      "cell_type": "markdown",
      "metadata": {
        "id": "La9nX36Sc0g1"
      },
      "source": [
        "The min value of Net_worth in non-default cases is greater than the max value of Net_worth in case of default."
      ]
    },
    {
      "cell_type": "code",
      "execution_count": 22,
      "metadata": {
        "id": "d4OwtHFlc0g1"
      },
      "outputs": [],
      "source": [
        "Default = Default.drop('Net_worth', axis = 1)"
      ]
    },
    {
      "cell_type": "code",
      "execution_count": 23,
      "metadata": {
        "id": "lBJkd2ORc0g1"
      },
      "outputs": [],
      "source": [
        "import statsmodels.formula.api as SM"
      ]
    },
    {
      "cell_type": "markdown",
      "metadata": {
        "id": "Bzhj6tsCc0g1"
      },
      "source": [
        "## Model 1"
      ]
    },
    {
      "cell_type": "markdown",
      "metadata": {
        "id": "D9CKPqyzc0g1"
      },
      "source": [
        "Lets check all columns we have in the dataset"
      ]
    },
    {
      "cell_type": "code",
      "execution_count": 24,
      "metadata": {
        "colab": {
          "base_uri": "https://localhost:8080/"
        },
        "id": "m2y2JexOc0g1",
        "outputId": "50a94257-f4a3-45c0-9fda-e36cb318045f"
      },
      "outputs": [
        {
          "output_type": "execute_result",
          "data": {
            "text/plain": [
              "Index(['default', 'Total_assets', 'Total_income', 'PAT_to_total_income',\n",
              "       'PBDITA_to_total_income', 'PBT_to_total_income',\n",
              "       'Cash_profit_to_total_income', 'Current_ratio', 'Debt_to_equity_ratio'],\n",
              "      dtype='object')"
            ]
          },
          "metadata": {},
          "execution_count": 24
        }
      ],
      "source": [
        "Default.columns"
      ]
    },
    {
      "cell_type": "code",
      "execution_count": 25,
      "metadata": {
        "id": "jQkmA0fBc0g2"
      },
      "outputs": [],
      "source": [
        "f_1 = 'default ~ Total_assets + Total_income + PAT_to_total_income + PBDITA_to_total_income + PBT_to_total_income + Cash_profit_to_total_income + Current_ratio + Debt_to_equity_ratio'"
      ]
    },
    {
      "cell_type": "markdown",
      "metadata": {
        "id": "FIBrfwnec0g2"
      },
      "source": [
        "#### Fitting the logistic regression model on 'Default' dataset"
      ]
    },
    {
      "cell_type": "code",
      "execution_count": 26,
      "metadata": {
        "colab": {
          "base_uri": "https://localhost:8080/"
        },
        "id": "4Y9j8m7_c0g2",
        "outputId": "47121637-5211-4c80-a9f1-84c6b47854b2"
      },
      "outputs": [
        {
          "output_type": "stream",
          "name": "stdout",
          "text": [
            "Optimization terminated successfully.\n",
            "         Current function value: 0.449135\n",
            "         Iterations 8\n"
          ]
        }
      ],
      "source": [
        "model_1 = SM.logit(formula = f_1, data=Default).fit()"
      ]
    },
    {
      "cell_type": "markdown",
      "metadata": {
        "id": "_ZuKuNzfc0g2"
      },
      "source": [
        "#### Checking the parameters"
      ]
    },
    {
      "cell_type": "code",
      "execution_count": 28,
      "metadata": {
        "scrolled": true,
        "colab": {
          "base_uri": "https://localhost:8080/"
        },
        "id": "G-3txiZWc0g2",
        "outputId": "005ae8d8-0910-40a6-900a-0f3f8d709213"
      },
      "outputs": [
        {
          "output_type": "stream",
          "name": "stdout",
          "text": [
            "                           Logit Regression Results                           \n",
            "==============================================================================\n",
            "Dep. Variable:                default   No. Observations:                 1384\n",
            "Model:                          Logit   Df Residuals:                     1375\n",
            "Method:                           MLE   Df Model:                            8\n",
            "Date:                Tue, 12 Jul 2022   Pseudo R-squ.:                  0.1747\n",
            "Time:                        17:39:25   Log-Likelihood:                -621.60\n",
            "converged:                       True   LL-Null:                       -753.16\n",
            "Covariance Type:            nonrobust   LLR p-value:                 2.858e-52\n",
            "===============================================================================================\n",
            "                                  coef    std err          z      P>|z|      [0.025      0.975]\n",
            "-----------------------------------------------------------------------------------------------\n",
            "Intercept                      -1.0027      0.115     -8.697      0.000      -1.229      -0.777\n",
            "Total_assets                   -0.0051      0.001     -8.161      0.000      -0.006      -0.004\n",
            "Total_income                    0.0007      0.000      2.626      0.009       0.000       0.001\n",
            "PAT_to_total_income            -0.0111      0.007     -1.565      0.118      -0.025       0.003\n",
            "PBDITA_to_total_income          0.0071      0.003      2.801      0.005       0.002       0.012\n",
            "PBT_to_total_income             0.0101      0.007      1.426      0.154      -0.004       0.024\n",
            "Cash_profit_to_total_income    -0.0056      0.002     -2.291      0.022      -0.010      -0.001\n",
            "Current_ratio                  -0.0131      0.030     -0.441      0.659      -0.071       0.045\n",
            "Debt_to_equity_ratio            0.1208      0.015      7.887      0.000       0.091       0.151\n",
            "===============================================================================================\n"
          ]
        }
      ],
      "source": [
        "print(model_1.summary())"
      ]
    },
    {
      "cell_type": "markdown",
      "metadata": {
        "id": "gQk0S16Rc0g2"
      },
      "source": [
        "Most of the ratio variables are insignificant. "
      ]
    },
    {
      "cell_type": "markdown",
      "metadata": {
        "id": "tyWb2nH7c0g2"
      },
      "source": [
        "#### Checking the Variance Inflation Factor"
      ]
    },
    {
      "cell_type": "code",
      "execution_count": 29,
      "metadata": {
        "id": "KA9kQaoQc0g2"
      },
      "outputs": [],
      "source": [
        "from statsmodels.stats.outliers_influence import variance_inflation_factor\n",
        "\n",
        "def calc_vif(X):\n",
        "\n",
        "    # Calculating VIF\n",
        "    vif = pd.DataFrame()\n",
        "    vif[\"variables\"] = X.columns\n",
        "    vif[\"VIF\"] = [variance_inflation_factor(X.values, i) for i in range(X.shape[1])]\n",
        "\n",
        "    return(vif)"
      ]
    },
    {
      "cell_type": "code",
      "execution_count": 30,
      "metadata": {
        "colab": {
          "base_uri": "https://localhost:8080/",
          "height": 300
        },
        "id": "c7vXDoXGc0g3",
        "outputId": "9ebc2794-72e1-4ae1-ce54-23cacae43a84"
      },
      "outputs": [
        {
          "output_type": "execute_result",
          "data": {
            "text/plain": [
              "                     variables        VIF\n",
              "4          PBT_to_total_income  41.006836\n",
              "2          PAT_to_total_income  30.027017\n",
              "5  Cash_profit_to_total_income  13.361123\n",
              "3       PBDITA_to_total_income   6.237123\n",
              "1                 Total_income   4.244771\n",
              "0                 Total_assets   4.236531\n",
              "6                Current_ratio   1.106762\n",
              "7         Debt_to_equity_ratio   1.060792"
            ],
            "text/html": [
              "\n",
              "  <div id=\"df-71b5c36e-1b4f-4f85-9914-913f3c66d357\">\n",
              "    <div class=\"colab-df-container\">\n",
              "      <div>\n",
              "<style scoped>\n",
              "    .dataframe tbody tr th:only-of-type {\n",
              "        vertical-align: middle;\n",
              "    }\n",
              "\n",
              "    .dataframe tbody tr th {\n",
              "        vertical-align: top;\n",
              "    }\n",
              "\n",
              "    .dataframe thead th {\n",
              "        text-align: right;\n",
              "    }\n",
              "</style>\n",
              "<table border=\"1\" class=\"dataframe\">\n",
              "  <thead>\n",
              "    <tr style=\"text-align: right;\">\n",
              "      <th></th>\n",
              "      <th>variables</th>\n",
              "      <th>VIF</th>\n",
              "    </tr>\n",
              "  </thead>\n",
              "  <tbody>\n",
              "    <tr>\n",
              "      <th>4</th>\n",
              "      <td>PBT_to_total_income</td>\n",
              "      <td>41.006836</td>\n",
              "    </tr>\n",
              "    <tr>\n",
              "      <th>2</th>\n",
              "      <td>PAT_to_total_income</td>\n",
              "      <td>30.027017</td>\n",
              "    </tr>\n",
              "    <tr>\n",
              "      <th>5</th>\n",
              "      <td>Cash_profit_to_total_income</td>\n",
              "      <td>13.361123</td>\n",
              "    </tr>\n",
              "    <tr>\n",
              "      <th>3</th>\n",
              "      <td>PBDITA_to_total_income</td>\n",
              "      <td>6.237123</td>\n",
              "    </tr>\n",
              "    <tr>\n",
              "      <th>1</th>\n",
              "      <td>Total_income</td>\n",
              "      <td>4.244771</td>\n",
              "    </tr>\n",
              "    <tr>\n",
              "      <th>0</th>\n",
              "      <td>Total_assets</td>\n",
              "      <td>4.236531</td>\n",
              "    </tr>\n",
              "    <tr>\n",
              "      <th>6</th>\n",
              "      <td>Current_ratio</td>\n",
              "      <td>1.106762</td>\n",
              "    </tr>\n",
              "    <tr>\n",
              "      <th>7</th>\n",
              "      <td>Debt_to_equity_ratio</td>\n",
              "      <td>1.060792</td>\n",
              "    </tr>\n",
              "  </tbody>\n",
              "</table>\n",
              "</div>\n",
              "      <button class=\"colab-df-convert\" onclick=\"convertToInteractive('df-71b5c36e-1b4f-4f85-9914-913f3c66d357')\"\n",
              "              title=\"Convert this dataframe to an interactive table.\"\n",
              "              style=\"display:none;\">\n",
              "        \n",
              "  <svg xmlns=\"http://www.w3.org/2000/svg\" height=\"24px\"viewBox=\"0 0 24 24\"\n",
              "       width=\"24px\">\n",
              "    <path d=\"M0 0h24v24H0V0z\" fill=\"none\"/>\n",
              "    <path d=\"M18.56 5.44l.94 2.06.94-2.06 2.06-.94-2.06-.94-.94-2.06-.94 2.06-2.06.94zm-11 1L8.5 8.5l.94-2.06 2.06-.94-2.06-.94L8.5 2.5l-.94 2.06-2.06.94zm10 10l.94 2.06.94-2.06 2.06-.94-2.06-.94-.94-2.06-.94 2.06-2.06.94z\"/><path d=\"M17.41 7.96l-1.37-1.37c-.4-.4-.92-.59-1.43-.59-.52 0-1.04.2-1.43.59L10.3 9.45l-7.72 7.72c-.78.78-.78 2.05 0 2.83L4 21.41c.39.39.9.59 1.41.59.51 0 1.02-.2 1.41-.59l7.78-7.78 2.81-2.81c.8-.78.8-2.07 0-2.86zM5.41 20L4 18.59l7.72-7.72 1.47 1.35L5.41 20z\"/>\n",
              "  </svg>\n",
              "      </button>\n",
              "      \n",
              "  <style>\n",
              "    .colab-df-container {\n",
              "      display:flex;\n",
              "      flex-wrap:wrap;\n",
              "      gap: 12px;\n",
              "    }\n",
              "\n",
              "    .colab-df-convert {\n",
              "      background-color: #E8F0FE;\n",
              "      border: none;\n",
              "      border-radius: 50%;\n",
              "      cursor: pointer;\n",
              "      display: none;\n",
              "      fill: #1967D2;\n",
              "      height: 32px;\n",
              "      padding: 0 0 0 0;\n",
              "      width: 32px;\n",
              "    }\n",
              "\n",
              "    .colab-df-convert:hover {\n",
              "      background-color: #E2EBFA;\n",
              "      box-shadow: 0px 1px 2px rgba(60, 64, 67, 0.3), 0px 1px 3px 1px rgba(60, 64, 67, 0.15);\n",
              "      fill: #174EA6;\n",
              "    }\n",
              "\n",
              "    [theme=dark] .colab-df-convert {\n",
              "      background-color: #3B4455;\n",
              "      fill: #D2E3FC;\n",
              "    }\n",
              "\n",
              "    [theme=dark] .colab-df-convert:hover {\n",
              "      background-color: #434B5C;\n",
              "      box-shadow: 0px 1px 3px 1px rgba(0, 0, 0, 0.15);\n",
              "      filter: drop-shadow(0px 1px 2px rgba(0, 0, 0, 0.3));\n",
              "      fill: #FFFFFF;\n",
              "    }\n",
              "  </style>\n",
              "\n",
              "      <script>\n",
              "        const buttonEl =\n",
              "          document.querySelector('#df-71b5c36e-1b4f-4f85-9914-913f3c66d357 button.colab-df-convert');\n",
              "        buttonEl.style.display =\n",
              "          google.colab.kernel.accessAllowed ? 'block' : 'none';\n",
              "\n",
              "        async function convertToInteractive(key) {\n",
              "          const element = document.querySelector('#df-71b5c36e-1b4f-4f85-9914-913f3c66d357');\n",
              "          const dataTable =\n",
              "            await google.colab.kernel.invokeFunction('convertToInteractive',\n",
              "                                                     [key], {});\n",
              "          if (!dataTable) return;\n",
              "\n",
              "          const docLinkHtml = 'Like what you see? Visit the ' +\n",
              "            '<a target=\"_blank\" href=https://colab.research.google.com/notebooks/data_table.ipynb>data table notebook</a>'\n",
              "            + ' to learn more about interactive tables.';\n",
              "          element.innerHTML = '';\n",
              "          dataTable['output_type'] = 'display_data';\n",
              "          await google.colab.output.renderOutput(dataTable, element);\n",
              "          const docLink = document.createElement('div');\n",
              "          docLink.innerHTML = docLinkHtml;\n",
              "          element.appendChild(docLink);\n",
              "        }\n",
              "      </script>\n",
              "    </div>\n",
              "  </div>\n",
              "  "
            ]
          },
          "metadata": {},
          "execution_count": 30
        }
      ],
      "source": [
        "X = Default.drop('default', axis = 1)\n",
        "calc_vif(X).sort_values(by = 'VIF', ascending = False)"
      ]
    },
    {
      "cell_type": "code",
      "execution_count": 31,
      "metadata": {
        "colab": {
          "base_uri": "https://localhost:8080/",
          "height": 269
        },
        "id": "7E_cNFR9c0g3",
        "outputId": "0eec4b86-4199-4f67-fe94-4399f67dcf9c"
      },
      "outputs": [
        {
          "output_type": "execute_result",
          "data": {
            "text/plain": [
              "                     variables        VIF\n",
              "4  Cash_profit_to_total_income  10.205902\n",
              "2          PAT_to_total_income   9.747080\n",
              "3       PBDITA_to_total_income   6.219717\n",
              "1                 Total_income   4.241512\n",
              "0                 Total_assets   4.232691\n",
              "5                Current_ratio   1.106063\n",
              "6         Debt_to_equity_ratio   1.060614"
            ],
            "text/html": [
              "\n",
              "  <div id=\"df-9aee901f-e4f7-41ba-b6ae-a5bbe781eada\">\n",
              "    <div class=\"colab-df-container\">\n",
              "      <div>\n",
              "<style scoped>\n",
              "    .dataframe tbody tr th:only-of-type {\n",
              "        vertical-align: middle;\n",
              "    }\n",
              "\n",
              "    .dataframe tbody tr th {\n",
              "        vertical-align: top;\n",
              "    }\n",
              "\n",
              "    .dataframe thead th {\n",
              "        text-align: right;\n",
              "    }\n",
              "</style>\n",
              "<table border=\"1\" class=\"dataframe\">\n",
              "  <thead>\n",
              "    <tr style=\"text-align: right;\">\n",
              "      <th></th>\n",
              "      <th>variables</th>\n",
              "      <th>VIF</th>\n",
              "    </tr>\n",
              "  </thead>\n",
              "  <tbody>\n",
              "    <tr>\n",
              "      <th>4</th>\n",
              "      <td>Cash_profit_to_total_income</td>\n",
              "      <td>10.205902</td>\n",
              "    </tr>\n",
              "    <tr>\n",
              "      <th>2</th>\n",
              "      <td>PAT_to_total_income</td>\n",
              "      <td>9.747080</td>\n",
              "    </tr>\n",
              "    <tr>\n",
              "      <th>3</th>\n",
              "      <td>PBDITA_to_total_income</td>\n",
              "      <td>6.219717</td>\n",
              "    </tr>\n",
              "    <tr>\n",
              "      <th>1</th>\n",
              "      <td>Total_income</td>\n",
              "      <td>4.241512</td>\n",
              "    </tr>\n",
              "    <tr>\n",
              "      <th>0</th>\n",
              "      <td>Total_assets</td>\n",
              "      <td>4.232691</td>\n",
              "    </tr>\n",
              "    <tr>\n",
              "      <th>5</th>\n",
              "      <td>Current_ratio</td>\n",
              "      <td>1.106063</td>\n",
              "    </tr>\n",
              "    <tr>\n",
              "      <th>6</th>\n",
              "      <td>Debt_to_equity_ratio</td>\n",
              "      <td>1.060614</td>\n",
              "    </tr>\n",
              "  </tbody>\n",
              "</table>\n",
              "</div>\n",
              "      <button class=\"colab-df-convert\" onclick=\"convertToInteractive('df-9aee901f-e4f7-41ba-b6ae-a5bbe781eada')\"\n",
              "              title=\"Convert this dataframe to an interactive table.\"\n",
              "              style=\"display:none;\">\n",
              "        \n",
              "  <svg xmlns=\"http://www.w3.org/2000/svg\" height=\"24px\"viewBox=\"0 0 24 24\"\n",
              "       width=\"24px\">\n",
              "    <path d=\"M0 0h24v24H0V0z\" fill=\"none\"/>\n",
              "    <path d=\"M18.56 5.44l.94 2.06.94-2.06 2.06-.94-2.06-.94-.94-2.06-.94 2.06-2.06.94zm-11 1L8.5 8.5l.94-2.06 2.06-.94-2.06-.94L8.5 2.5l-.94 2.06-2.06.94zm10 10l.94 2.06.94-2.06 2.06-.94-2.06-.94-.94-2.06-.94 2.06-2.06.94z\"/><path d=\"M17.41 7.96l-1.37-1.37c-.4-.4-.92-.59-1.43-.59-.52 0-1.04.2-1.43.59L10.3 9.45l-7.72 7.72c-.78.78-.78 2.05 0 2.83L4 21.41c.39.39.9.59 1.41.59.51 0 1.02-.2 1.41-.59l7.78-7.78 2.81-2.81c.8-.78.8-2.07 0-2.86zM5.41 20L4 18.59l7.72-7.72 1.47 1.35L5.41 20z\"/>\n",
              "  </svg>\n",
              "      </button>\n",
              "      \n",
              "  <style>\n",
              "    .colab-df-container {\n",
              "      display:flex;\n",
              "      flex-wrap:wrap;\n",
              "      gap: 12px;\n",
              "    }\n",
              "\n",
              "    .colab-df-convert {\n",
              "      background-color: #E8F0FE;\n",
              "      border: none;\n",
              "      border-radius: 50%;\n",
              "      cursor: pointer;\n",
              "      display: none;\n",
              "      fill: #1967D2;\n",
              "      height: 32px;\n",
              "      padding: 0 0 0 0;\n",
              "      width: 32px;\n",
              "    }\n",
              "\n",
              "    .colab-df-convert:hover {\n",
              "      background-color: #E2EBFA;\n",
              "      box-shadow: 0px 1px 2px rgba(60, 64, 67, 0.3), 0px 1px 3px 1px rgba(60, 64, 67, 0.15);\n",
              "      fill: #174EA6;\n",
              "    }\n",
              "\n",
              "    [theme=dark] .colab-df-convert {\n",
              "      background-color: #3B4455;\n",
              "      fill: #D2E3FC;\n",
              "    }\n",
              "\n",
              "    [theme=dark] .colab-df-convert:hover {\n",
              "      background-color: #434B5C;\n",
              "      box-shadow: 0px 1px 3px 1px rgba(0, 0, 0, 0.15);\n",
              "      filter: drop-shadow(0px 1px 2px rgba(0, 0, 0, 0.3));\n",
              "      fill: #FFFFFF;\n",
              "    }\n",
              "  </style>\n",
              "\n",
              "      <script>\n",
              "        const buttonEl =\n",
              "          document.querySelector('#df-9aee901f-e4f7-41ba-b6ae-a5bbe781eada button.colab-df-convert');\n",
              "        buttonEl.style.display =\n",
              "          google.colab.kernel.accessAllowed ? 'block' : 'none';\n",
              "\n",
              "        async function convertToInteractive(key) {\n",
              "          const element = document.querySelector('#df-9aee901f-e4f7-41ba-b6ae-a5bbe781eada');\n",
              "          const dataTable =\n",
              "            await google.colab.kernel.invokeFunction('convertToInteractive',\n",
              "                                                     [key], {});\n",
              "          if (!dataTable) return;\n",
              "\n",
              "          const docLinkHtml = 'Like what you see? Visit the ' +\n",
              "            '<a target=\"_blank\" href=https://colab.research.google.com/notebooks/data_table.ipynb>data table notebook</a>'\n",
              "            + ' to learn more about interactive tables.';\n",
              "          element.innerHTML = '';\n",
              "          dataTable['output_type'] = 'display_data';\n",
              "          await google.colab.output.renderOutput(dataTable, element);\n",
              "          const docLink = document.createElement('div');\n",
              "          docLink.innerHTML = docLinkHtml;\n",
              "          element.appendChild(docLink);\n",
              "        }\n",
              "      </script>\n",
              "    </div>\n",
              "  </div>\n",
              "  "
            ]
          },
          "metadata": {},
          "execution_count": 31
        }
      ],
      "source": [
        "X = X.drop('PBT_to_total_income', axis = 1)\n",
        "calc_vif(X).sort_values(by = 'VIF', ascending = False)"
      ]
    },
    {
      "cell_type": "code",
      "execution_count": 32,
      "metadata": {
        "colab": {
          "base_uri": "https://localhost:8080/",
          "height": 237
        },
        "id": "fz0k8CMpc0g3",
        "outputId": "fa0420df-ccb8-44eb-f062-c05b79ae4e54"
      },
      "outputs": [
        {
          "output_type": "execute_result",
          "data": {
            "text/plain": [
              "                variables       VIF\n",
              "2     PAT_to_total_income  5.266466\n",
              "3  PBDITA_to_total_income  5.254615\n",
              "1            Total_income  4.234343\n",
              "0            Total_assets  4.224722\n",
              "4           Current_ratio  1.105685\n",
              "5    Debt_to_equity_ratio  1.058698"
            ],
            "text/html": [
              "\n",
              "  <div id=\"df-879f4588-3df9-41eb-992e-3ce343df78b5\">\n",
              "    <div class=\"colab-df-container\">\n",
              "      <div>\n",
              "<style scoped>\n",
              "    .dataframe tbody tr th:only-of-type {\n",
              "        vertical-align: middle;\n",
              "    }\n",
              "\n",
              "    .dataframe tbody tr th {\n",
              "        vertical-align: top;\n",
              "    }\n",
              "\n",
              "    .dataframe thead th {\n",
              "        text-align: right;\n",
              "    }\n",
              "</style>\n",
              "<table border=\"1\" class=\"dataframe\">\n",
              "  <thead>\n",
              "    <tr style=\"text-align: right;\">\n",
              "      <th></th>\n",
              "      <th>variables</th>\n",
              "      <th>VIF</th>\n",
              "    </tr>\n",
              "  </thead>\n",
              "  <tbody>\n",
              "    <tr>\n",
              "      <th>2</th>\n",
              "      <td>PAT_to_total_income</td>\n",
              "      <td>5.266466</td>\n",
              "    </tr>\n",
              "    <tr>\n",
              "      <th>3</th>\n",
              "      <td>PBDITA_to_total_income</td>\n",
              "      <td>5.254615</td>\n",
              "    </tr>\n",
              "    <tr>\n",
              "      <th>1</th>\n",
              "      <td>Total_income</td>\n",
              "      <td>4.234343</td>\n",
              "    </tr>\n",
              "    <tr>\n",
              "      <th>0</th>\n",
              "      <td>Total_assets</td>\n",
              "      <td>4.224722</td>\n",
              "    </tr>\n",
              "    <tr>\n",
              "      <th>4</th>\n",
              "      <td>Current_ratio</td>\n",
              "      <td>1.105685</td>\n",
              "    </tr>\n",
              "    <tr>\n",
              "      <th>5</th>\n",
              "      <td>Debt_to_equity_ratio</td>\n",
              "      <td>1.058698</td>\n",
              "    </tr>\n",
              "  </tbody>\n",
              "</table>\n",
              "</div>\n",
              "      <button class=\"colab-df-convert\" onclick=\"convertToInteractive('df-879f4588-3df9-41eb-992e-3ce343df78b5')\"\n",
              "              title=\"Convert this dataframe to an interactive table.\"\n",
              "              style=\"display:none;\">\n",
              "        \n",
              "  <svg xmlns=\"http://www.w3.org/2000/svg\" height=\"24px\"viewBox=\"0 0 24 24\"\n",
              "       width=\"24px\">\n",
              "    <path d=\"M0 0h24v24H0V0z\" fill=\"none\"/>\n",
              "    <path d=\"M18.56 5.44l.94 2.06.94-2.06 2.06-.94-2.06-.94-.94-2.06-.94 2.06-2.06.94zm-11 1L8.5 8.5l.94-2.06 2.06-.94-2.06-.94L8.5 2.5l-.94 2.06-2.06.94zm10 10l.94 2.06.94-2.06 2.06-.94-2.06-.94-.94-2.06-.94 2.06-2.06.94z\"/><path d=\"M17.41 7.96l-1.37-1.37c-.4-.4-.92-.59-1.43-.59-.52 0-1.04.2-1.43.59L10.3 9.45l-7.72 7.72c-.78.78-.78 2.05 0 2.83L4 21.41c.39.39.9.59 1.41.59.51 0 1.02-.2 1.41-.59l7.78-7.78 2.81-2.81c.8-.78.8-2.07 0-2.86zM5.41 20L4 18.59l7.72-7.72 1.47 1.35L5.41 20z\"/>\n",
              "  </svg>\n",
              "      </button>\n",
              "      \n",
              "  <style>\n",
              "    .colab-df-container {\n",
              "      display:flex;\n",
              "      flex-wrap:wrap;\n",
              "      gap: 12px;\n",
              "    }\n",
              "\n",
              "    .colab-df-convert {\n",
              "      background-color: #E8F0FE;\n",
              "      border: none;\n",
              "      border-radius: 50%;\n",
              "      cursor: pointer;\n",
              "      display: none;\n",
              "      fill: #1967D2;\n",
              "      height: 32px;\n",
              "      padding: 0 0 0 0;\n",
              "      width: 32px;\n",
              "    }\n",
              "\n",
              "    .colab-df-convert:hover {\n",
              "      background-color: #E2EBFA;\n",
              "      box-shadow: 0px 1px 2px rgba(60, 64, 67, 0.3), 0px 1px 3px 1px rgba(60, 64, 67, 0.15);\n",
              "      fill: #174EA6;\n",
              "    }\n",
              "\n",
              "    [theme=dark] .colab-df-convert {\n",
              "      background-color: #3B4455;\n",
              "      fill: #D2E3FC;\n",
              "    }\n",
              "\n",
              "    [theme=dark] .colab-df-convert:hover {\n",
              "      background-color: #434B5C;\n",
              "      box-shadow: 0px 1px 3px 1px rgba(0, 0, 0, 0.15);\n",
              "      filter: drop-shadow(0px 1px 2px rgba(0, 0, 0, 0.3));\n",
              "      fill: #FFFFFF;\n",
              "    }\n",
              "  </style>\n",
              "\n",
              "      <script>\n",
              "        const buttonEl =\n",
              "          document.querySelector('#df-879f4588-3df9-41eb-992e-3ce343df78b5 button.colab-df-convert');\n",
              "        buttonEl.style.display =\n",
              "          google.colab.kernel.accessAllowed ? 'block' : 'none';\n",
              "\n",
              "        async function convertToInteractive(key) {\n",
              "          const element = document.querySelector('#df-879f4588-3df9-41eb-992e-3ce343df78b5');\n",
              "          const dataTable =\n",
              "            await google.colab.kernel.invokeFunction('convertToInteractive',\n",
              "                                                     [key], {});\n",
              "          if (!dataTable) return;\n",
              "\n",
              "          const docLinkHtml = 'Like what you see? Visit the ' +\n",
              "            '<a target=\"_blank\" href=https://colab.research.google.com/notebooks/data_table.ipynb>data table notebook</a>'\n",
              "            + ' to learn more about interactive tables.';\n",
              "          element.innerHTML = '';\n",
              "          dataTable['output_type'] = 'display_data';\n",
              "          await google.colab.output.renderOutput(dataTable, element);\n",
              "          const docLink = document.createElement('div');\n",
              "          docLink.innerHTML = docLinkHtml;\n",
              "          element.appendChild(docLink);\n",
              "        }\n",
              "      </script>\n",
              "    </div>\n",
              "  </div>\n",
              "  "
            ]
          },
          "metadata": {},
          "execution_count": 32
        }
      ],
      "source": [
        "X = X.drop('Cash_profit_to_total_income', axis = 1)\n",
        "calc_vif(X).sort_values(by = 'VIF', ascending = False)"
      ]
    },
    {
      "cell_type": "code",
      "execution_count": 33,
      "metadata": {
        "colab": {
          "base_uri": "https://localhost:8080/",
          "height": 206
        },
        "id": "goDEnxn9c0g3",
        "outputId": "a4aac6ab-b393-4fb6-df97-1381a6354b7a"
      },
      "outputs": [
        {
          "output_type": "execute_result",
          "data": {
            "text/plain": [
              "                variables       VIF\n",
              "1     PAT_to_total_income  5.227906\n",
              "2  PBDITA_to_total_income  5.222366\n",
              "3           Current_ratio  1.105538\n",
              "0            Total_income  1.085525\n",
              "4    Debt_to_equity_ratio  1.052914"
            ],
            "text/html": [
              "\n",
              "  <div id=\"df-71f63804-0a7e-4e62-ab17-c1077bf25f28\">\n",
              "    <div class=\"colab-df-container\">\n",
              "      <div>\n",
              "<style scoped>\n",
              "    .dataframe tbody tr th:only-of-type {\n",
              "        vertical-align: middle;\n",
              "    }\n",
              "\n",
              "    .dataframe tbody tr th {\n",
              "        vertical-align: top;\n",
              "    }\n",
              "\n",
              "    .dataframe thead th {\n",
              "        text-align: right;\n",
              "    }\n",
              "</style>\n",
              "<table border=\"1\" class=\"dataframe\">\n",
              "  <thead>\n",
              "    <tr style=\"text-align: right;\">\n",
              "      <th></th>\n",
              "      <th>variables</th>\n",
              "      <th>VIF</th>\n",
              "    </tr>\n",
              "  </thead>\n",
              "  <tbody>\n",
              "    <tr>\n",
              "      <th>1</th>\n",
              "      <td>PAT_to_total_income</td>\n",
              "      <td>5.227906</td>\n",
              "    </tr>\n",
              "    <tr>\n",
              "      <th>2</th>\n",
              "      <td>PBDITA_to_total_income</td>\n",
              "      <td>5.222366</td>\n",
              "    </tr>\n",
              "    <tr>\n",
              "      <th>3</th>\n",
              "      <td>Current_ratio</td>\n",
              "      <td>1.105538</td>\n",
              "    </tr>\n",
              "    <tr>\n",
              "      <th>0</th>\n",
              "      <td>Total_income</td>\n",
              "      <td>1.085525</td>\n",
              "    </tr>\n",
              "    <tr>\n",
              "      <th>4</th>\n",
              "      <td>Debt_to_equity_ratio</td>\n",
              "      <td>1.052914</td>\n",
              "    </tr>\n",
              "  </tbody>\n",
              "</table>\n",
              "</div>\n",
              "      <button class=\"colab-df-convert\" onclick=\"convertToInteractive('df-71f63804-0a7e-4e62-ab17-c1077bf25f28')\"\n",
              "              title=\"Convert this dataframe to an interactive table.\"\n",
              "              style=\"display:none;\">\n",
              "        \n",
              "  <svg xmlns=\"http://www.w3.org/2000/svg\" height=\"24px\"viewBox=\"0 0 24 24\"\n",
              "       width=\"24px\">\n",
              "    <path d=\"M0 0h24v24H0V0z\" fill=\"none\"/>\n",
              "    <path d=\"M18.56 5.44l.94 2.06.94-2.06 2.06-.94-2.06-.94-.94-2.06-.94 2.06-2.06.94zm-11 1L8.5 8.5l.94-2.06 2.06-.94-2.06-.94L8.5 2.5l-.94 2.06-2.06.94zm10 10l.94 2.06.94-2.06 2.06-.94-2.06-.94-.94-2.06-.94 2.06-2.06.94z\"/><path d=\"M17.41 7.96l-1.37-1.37c-.4-.4-.92-.59-1.43-.59-.52 0-1.04.2-1.43.59L10.3 9.45l-7.72 7.72c-.78.78-.78 2.05 0 2.83L4 21.41c.39.39.9.59 1.41.59.51 0 1.02-.2 1.41-.59l7.78-7.78 2.81-2.81c.8-.78.8-2.07 0-2.86zM5.41 20L4 18.59l7.72-7.72 1.47 1.35L5.41 20z\"/>\n",
              "  </svg>\n",
              "      </button>\n",
              "      \n",
              "  <style>\n",
              "    .colab-df-container {\n",
              "      display:flex;\n",
              "      flex-wrap:wrap;\n",
              "      gap: 12px;\n",
              "    }\n",
              "\n",
              "    .colab-df-convert {\n",
              "      background-color: #E8F0FE;\n",
              "      border: none;\n",
              "      border-radius: 50%;\n",
              "      cursor: pointer;\n",
              "      display: none;\n",
              "      fill: #1967D2;\n",
              "      height: 32px;\n",
              "      padding: 0 0 0 0;\n",
              "      width: 32px;\n",
              "    }\n",
              "\n",
              "    .colab-df-convert:hover {\n",
              "      background-color: #E2EBFA;\n",
              "      box-shadow: 0px 1px 2px rgba(60, 64, 67, 0.3), 0px 1px 3px 1px rgba(60, 64, 67, 0.15);\n",
              "      fill: #174EA6;\n",
              "    }\n",
              "\n",
              "    [theme=dark] .colab-df-convert {\n",
              "      background-color: #3B4455;\n",
              "      fill: #D2E3FC;\n",
              "    }\n",
              "\n",
              "    [theme=dark] .colab-df-convert:hover {\n",
              "      background-color: #434B5C;\n",
              "      box-shadow: 0px 1px 3px 1px rgba(0, 0, 0, 0.15);\n",
              "      filter: drop-shadow(0px 1px 2px rgba(0, 0, 0, 0.3));\n",
              "      fill: #FFFFFF;\n",
              "    }\n",
              "  </style>\n",
              "\n",
              "      <script>\n",
              "        const buttonEl =\n",
              "          document.querySelector('#df-71f63804-0a7e-4e62-ab17-c1077bf25f28 button.colab-df-convert');\n",
              "        buttonEl.style.display =\n",
              "          google.colab.kernel.accessAllowed ? 'block' : 'none';\n",
              "\n",
              "        async function convertToInteractive(key) {\n",
              "          const element = document.querySelector('#df-71f63804-0a7e-4e62-ab17-c1077bf25f28');\n",
              "          const dataTable =\n",
              "            await google.colab.kernel.invokeFunction('convertToInteractive',\n",
              "                                                     [key], {});\n",
              "          if (!dataTable) return;\n",
              "\n",
              "          const docLinkHtml = 'Like what you see? Visit the ' +\n",
              "            '<a target=\"_blank\" href=https://colab.research.google.com/notebooks/data_table.ipynb>data table notebook</a>'\n",
              "            + ' to learn more about interactive tables.';\n",
              "          element.innerHTML = '';\n",
              "          dataTable['output_type'] = 'display_data';\n",
              "          await google.colab.output.renderOutput(dataTable, element);\n",
              "          const docLink = document.createElement('div');\n",
              "          docLink.innerHTML = docLinkHtml;\n",
              "          element.appendChild(docLink);\n",
              "        }\n",
              "      </script>\n",
              "    </div>\n",
              "  </div>\n",
              "  "
            ]
          },
          "metadata": {},
          "execution_count": 33
        }
      ],
      "source": [
        "X = X.drop('Total_assets', axis = 1)\n",
        "calc_vif(X).sort_values(by = 'VIF', ascending = False)"
      ]
    },
    {
      "cell_type": "code",
      "execution_count": 34,
      "metadata": {
        "colab": {
          "base_uri": "https://localhost:8080/",
          "height": 175
        },
        "id": "V1Dhqr8tc0g3",
        "outputId": "ef710e60-9f40-4fd8-8941-02f8b83ba4ff"
      },
      "outputs": [
        {
          "output_type": "execute_result",
          "data": {
            "text/plain": [
              "                variables       VIF\n",
              "2           Current_ratio  1.101867\n",
              "0            Total_income  1.085145\n",
              "3    Debt_to_equity_ratio  1.052913\n",
              "1  PBDITA_to_total_income  1.005046"
            ],
            "text/html": [
              "\n",
              "  <div id=\"df-b887f75c-572f-4d7b-a64f-9940a5a65f05\">\n",
              "    <div class=\"colab-df-container\">\n",
              "      <div>\n",
              "<style scoped>\n",
              "    .dataframe tbody tr th:only-of-type {\n",
              "        vertical-align: middle;\n",
              "    }\n",
              "\n",
              "    .dataframe tbody tr th {\n",
              "        vertical-align: top;\n",
              "    }\n",
              "\n",
              "    .dataframe thead th {\n",
              "        text-align: right;\n",
              "    }\n",
              "</style>\n",
              "<table border=\"1\" class=\"dataframe\">\n",
              "  <thead>\n",
              "    <tr style=\"text-align: right;\">\n",
              "      <th></th>\n",
              "      <th>variables</th>\n",
              "      <th>VIF</th>\n",
              "    </tr>\n",
              "  </thead>\n",
              "  <tbody>\n",
              "    <tr>\n",
              "      <th>2</th>\n",
              "      <td>Current_ratio</td>\n",
              "      <td>1.101867</td>\n",
              "    </tr>\n",
              "    <tr>\n",
              "      <th>0</th>\n",
              "      <td>Total_income</td>\n",
              "      <td>1.085145</td>\n",
              "    </tr>\n",
              "    <tr>\n",
              "      <th>3</th>\n",
              "      <td>Debt_to_equity_ratio</td>\n",
              "      <td>1.052913</td>\n",
              "    </tr>\n",
              "    <tr>\n",
              "      <th>1</th>\n",
              "      <td>PBDITA_to_total_income</td>\n",
              "      <td>1.005046</td>\n",
              "    </tr>\n",
              "  </tbody>\n",
              "</table>\n",
              "</div>\n",
              "      <button class=\"colab-df-convert\" onclick=\"convertToInteractive('df-b887f75c-572f-4d7b-a64f-9940a5a65f05')\"\n",
              "              title=\"Convert this dataframe to an interactive table.\"\n",
              "              style=\"display:none;\">\n",
              "        \n",
              "  <svg xmlns=\"http://www.w3.org/2000/svg\" height=\"24px\"viewBox=\"0 0 24 24\"\n",
              "       width=\"24px\">\n",
              "    <path d=\"M0 0h24v24H0V0z\" fill=\"none\"/>\n",
              "    <path d=\"M18.56 5.44l.94 2.06.94-2.06 2.06-.94-2.06-.94-.94-2.06-.94 2.06-2.06.94zm-11 1L8.5 8.5l.94-2.06 2.06-.94-2.06-.94L8.5 2.5l-.94 2.06-2.06.94zm10 10l.94 2.06.94-2.06 2.06-.94-2.06-.94-.94-2.06-.94 2.06-2.06.94z\"/><path d=\"M17.41 7.96l-1.37-1.37c-.4-.4-.92-.59-1.43-.59-.52 0-1.04.2-1.43.59L10.3 9.45l-7.72 7.72c-.78.78-.78 2.05 0 2.83L4 21.41c.39.39.9.59 1.41.59.51 0 1.02-.2 1.41-.59l7.78-7.78 2.81-2.81c.8-.78.8-2.07 0-2.86zM5.41 20L4 18.59l7.72-7.72 1.47 1.35L5.41 20z\"/>\n",
              "  </svg>\n",
              "      </button>\n",
              "      \n",
              "  <style>\n",
              "    .colab-df-container {\n",
              "      display:flex;\n",
              "      flex-wrap:wrap;\n",
              "      gap: 12px;\n",
              "    }\n",
              "\n",
              "    .colab-df-convert {\n",
              "      background-color: #E8F0FE;\n",
              "      border: none;\n",
              "      border-radius: 50%;\n",
              "      cursor: pointer;\n",
              "      display: none;\n",
              "      fill: #1967D2;\n",
              "      height: 32px;\n",
              "      padding: 0 0 0 0;\n",
              "      width: 32px;\n",
              "    }\n",
              "\n",
              "    .colab-df-convert:hover {\n",
              "      background-color: #E2EBFA;\n",
              "      box-shadow: 0px 1px 2px rgba(60, 64, 67, 0.3), 0px 1px 3px 1px rgba(60, 64, 67, 0.15);\n",
              "      fill: #174EA6;\n",
              "    }\n",
              "\n",
              "    [theme=dark] .colab-df-convert {\n",
              "      background-color: #3B4455;\n",
              "      fill: #D2E3FC;\n",
              "    }\n",
              "\n",
              "    [theme=dark] .colab-df-convert:hover {\n",
              "      background-color: #434B5C;\n",
              "      box-shadow: 0px 1px 3px 1px rgba(0, 0, 0, 0.15);\n",
              "      filter: drop-shadow(0px 1px 2px rgba(0, 0, 0, 0.3));\n",
              "      fill: #FFFFFF;\n",
              "    }\n",
              "  </style>\n",
              "\n",
              "      <script>\n",
              "        const buttonEl =\n",
              "          document.querySelector('#df-b887f75c-572f-4d7b-a64f-9940a5a65f05 button.colab-df-convert');\n",
              "        buttonEl.style.display =\n",
              "          google.colab.kernel.accessAllowed ? 'block' : 'none';\n",
              "\n",
              "        async function convertToInteractive(key) {\n",
              "          const element = document.querySelector('#df-b887f75c-572f-4d7b-a64f-9940a5a65f05');\n",
              "          const dataTable =\n",
              "            await google.colab.kernel.invokeFunction('convertToInteractive',\n",
              "                                                     [key], {});\n",
              "          if (!dataTable) return;\n",
              "\n",
              "          const docLinkHtml = 'Like what you see? Visit the ' +\n",
              "            '<a target=\"_blank\" href=https://colab.research.google.com/notebooks/data_table.ipynb>data table notebook</a>'\n",
              "            + ' to learn more about interactive tables.';\n",
              "          element.innerHTML = '';\n",
              "          dataTable['output_type'] = 'display_data';\n",
              "          await google.colab.output.renderOutput(dataTable, element);\n",
              "          const docLink = document.createElement('div');\n",
              "          docLink.innerHTML = docLinkHtml;\n",
              "          element.appendChild(docLink);\n",
              "        }\n",
              "      </script>\n",
              "    </div>\n",
              "  </div>\n",
              "  "
            ]
          },
          "metadata": {},
          "execution_count": 34
        }
      ],
      "source": [
        "X = X.drop('PAT_to_total_income', axis = 1)\n",
        "calc_vif(X).sort_values(by = 'VIF', ascending = False)"
      ]
    },
    {
      "cell_type": "code",
      "execution_count": 35,
      "metadata": {
        "id": "6xok6uYyc0g4"
      },
      "outputs": [],
      "source": [
        "from sklearn.model_selection import train_test_split"
      ]
    },
    {
      "cell_type": "code",
      "execution_count": 36,
      "metadata": {
        "id": "v91o3f2tc0g4"
      },
      "outputs": [],
      "source": [
        "y = Default['default']"
      ]
    },
    {
      "cell_type": "code",
      "execution_count": 37,
      "metadata": {
        "id": "HtkI5c9ic0g4"
      },
      "outputs": [],
      "source": [
        "X_train, X_test, y_train, y_test = train_test_split(X, y, test_size = 0.3, random_state = 12)"
      ]
    },
    {
      "cell_type": "code",
      "execution_count": 38,
      "metadata": {
        "id": "RVKxUTVYc0g4"
      },
      "outputs": [],
      "source": [
        "Default_train = pd.concat([X_train, y_train], axis = 1)\n",
        "Default_test = pd.concat([X_test, y_test], axis = 1)"
      ]
    },
    {
      "cell_type": "markdown",
      "metadata": {
        "id": "rh7fkF_nc0g4"
      },
      "source": [
        "## Model 2"
      ]
    },
    {
      "cell_type": "code",
      "execution_count": 39,
      "metadata": {
        "colab": {
          "base_uri": "https://localhost:8080/"
        },
        "id": "30XJ8iRic0g4",
        "outputId": "e210db52-88ee-498a-8adf-57a7535ffb27"
      },
      "outputs": [
        {
          "output_type": "stream",
          "name": "stdout",
          "text": [
            "Optimization terminated successfully.\n",
            "         Current function value: 0.493615\n",
            "         Iterations 7\n"
          ]
        }
      ],
      "source": [
        "model_2 = SM.logit(formula = 'default ~ Total_income + Current_ratio + Debt_to_equity_ratio + PBDITA_to_total_income', data=Default_train).fit()"
      ]
    },
    {
      "cell_type": "markdown",
      "metadata": {
        "id": "RHgDmyCkc0g4"
      },
      "source": [
        "#### Checking the coefficients"
      ]
    },
    {
      "cell_type": "code",
      "execution_count": 40,
      "metadata": {
        "colab": {
          "base_uri": "https://localhost:8080/"
        },
        "id": "xCt1BTUNc0g4",
        "outputId": "fbf54197-1ad3-4841-e61b-55c551a98733"
      },
      "outputs": [
        {
          "output_type": "stream",
          "name": "stdout",
          "text": [
            "                           Logit Regression Results                           \n",
            "==============================================================================\n",
            "Dep. Variable:                default   No. Observations:                  968\n",
            "Model:                          Logit   Df Residuals:                      963\n",
            "Method:                           MLE   Df Model:                            4\n",
            "Date:                Tue, 12 Jul 2022   Pseudo R-squ.:                 0.09775\n",
            "Time:                        17:41:01   Log-Likelihood:                -477.82\n",
            "converged:                       True   LL-Null:                       -529.59\n",
            "Covariance Type:            nonrobust   LLR p-value:                 1.737e-21\n",
            "==========================================================================================\n",
            "                             coef    std err          z      P>|z|      [0.025      0.975]\n",
            "------------------------------------------------------------------------------------------\n",
            "Intercept                 -1.0539      0.131     -8.043      0.000      -1.311      -0.797\n",
            "Total_income              -0.0011      0.000     -4.280      0.000      -0.002      -0.001\n",
            "Current_ratio             -0.0408      0.041     -0.998      0.318      -0.121       0.039\n",
            "Debt_to_equity_ratio       0.0889      0.016      5.415      0.000       0.057       0.121\n",
            "PBDITA_to_total_income    -0.0001      0.000     -0.487      0.626      -0.001       0.000\n",
            "==========================================================================================\n"
          ]
        }
      ],
      "source": [
        "print(model_2.summary())"
      ]
    },
    {
      "cell_type": "markdown",
      "metadata": {
        "id": "RH8LDOaRc0g4"
      },
      "source": [
        "PBDITA_to_total_income is an insignificant variable, therefore, we will eliminate it."
      ]
    },
    {
      "cell_type": "markdown",
      "metadata": {
        "id": "Iq4Gen3Vc0g5"
      },
      "source": [
        "## Model 3"
      ]
    },
    {
      "cell_type": "code",
      "execution_count": 41,
      "metadata": {
        "colab": {
          "base_uri": "https://localhost:8080/"
        },
        "id": "OnqCPtEKc0g5",
        "outputId": "263491c9-a42d-44cb-b24f-bde06fa7f125"
      },
      "outputs": [
        {
          "output_type": "stream",
          "name": "stdout",
          "text": [
            "Optimization terminated successfully.\n",
            "         Current function value: 0.493730\n",
            "         Iterations 7\n"
          ]
        }
      ],
      "source": [
        "model_3 = SM.logit(formula = 'default ~ Total_income + Current_ratio + Debt_to_equity_ratio', data=Default_train).fit()"
      ]
    },
    {
      "cell_type": "markdown",
      "metadata": {
        "id": "-s_VHeUVc0g5"
      },
      "source": [
        "#### Checking the coefficients"
      ]
    },
    {
      "cell_type": "code",
      "execution_count": 42,
      "metadata": {
        "colab": {
          "base_uri": "https://localhost:8080/"
        },
        "id": "noMjJQhHc0g5",
        "outputId": "30996853-d549-4929-d0fa-7e3f30d30bb3"
      },
      "outputs": [
        {
          "output_type": "stream",
          "name": "stdout",
          "text": [
            "                           Logit Regression Results                           \n",
            "==============================================================================\n",
            "Dep. Variable:                default   No. Observations:                  968\n",
            "Model:                          Logit   Df Residuals:                      964\n",
            "Method:                           MLE   Df Model:                            3\n",
            "Date:                Tue, 12 Jul 2022   Pseudo R-squ.:                 0.09754\n",
            "Time:                        17:41:30   Log-Likelihood:                -477.93\n",
            "converged:                       True   LL-Null:                       -529.59\n",
            "Covariance Type:            nonrobust   LLR p-value:                 3.012e-22\n",
            "========================================================================================\n",
            "                           coef    std err          z      P>|z|      [0.025      0.975]\n",
            "----------------------------------------------------------------------------------------\n",
            "Intercept               -1.0527      0.131     -8.040      0.000      -1.309      -0.796\n",
            "Total_income            -0.0011      0.000     -4.299      0.000      -0.002      -0.001\n",
            "Current_ratio           -0.0400      0.041     -0.981      0.327      -0.120       0.040\n",
            "Debt_to_equity_ratio     0.0889      0.016      5.420      0.000       0.057       0.121\n",
            "========================================================================================\n"
          ]
        }
      ],
      "source": [
        "print(model_3.summary())"
      ]
    },
    {
      "cell_type": "markdown",
      "metadata": {
        "id": "jhvMZ_kdc0g5"
      },
      "source": [
        "Current_ratio is still insignificant, therefore, we will eliminate it"
      ]
    },
    {
      "cell_type": "markdown",
      "metadata": {
        "id": "MuEAP-B9c0g5"
      },
      "source": [
        "## Model 4"
      ]
    },
    {
      "cell_type": "markdown",
      "metadata": {
        "id": "vD5fQb3Bc0g5"
      },
      "source": [
        "Adding variables pertaining to Repayment Status"
      ]
    },
    {
      "cell_type": "code",
      "execution_count": 43,
      "metadata": {
        "colab": {
          "base_uri": "https://localhost:8080/"
        },
        "id": "ZwNsCqizc0g5",
        "outputId": "a7f40723-055e-40a9-e2cd-3dda153ae9b3"
      },
      "outputs": [
        {
          "output_type": "stream",
          "name": "stdout",
          "text": [
            "Optimization terminated successfully.\n",
            "         Current function value: 0.494279\n",
            "         Iterations 7\n"
          ]
        }
      ],
      "source": [
        "model_4 = SM.logit(formula = 'default ~ Total_income + Debt_to_equity_ratio', data=Default_train).fit()"
      ]
    },
    {
      "cell_type": "code",
      "execution_count": 44,
      "metadata": {
        "colab": {
          "base_uri": "https://localhost:8080/"
        },
        "id": "H4Uyouu1c0g5",
        "outputId": "1555cc56-24e7-4f9e-a4de-c4a67c19095e"
      },
      "outputs": [
        {
          "output_type": "stream",
          "name": "stdout",
          "text": [
            "                           Logit Regression Results                           \n",
            "==============================================================================\n",
            "Dep. Variable:                default   No. Observations:                  968\n",
            "Model:                          Logit   Df Residuals:                      965\n",
            "Method:                           MLE   Df Model:                            2\n",
            "Date:                Tue, 12 Jul 2022   Pseudo R-squ.:                 0.09654\n",
            "Time:                        17:41:50   Log-Likelihood:                -478.46\n",
            "converged:                       True   LL-Null:                       -529.59\n",
            "Covariance Type:            nonrobust   LLR p-value:                 6.262e-23\n",
            "========================================================================================\n",
            "                           coef    std err          z      P>|z|      [0.025      0.975]\n",
            "----------------------------------------------------------------------------------------\n",
            "Intercept               -1.1300      0.107    -10.592      0.000      -1.339      -0.921\n",
            "Total_income            -0.0011      0.000     -4.241      0.000      -0.002      -0.001\n",
            "Debt_to_equity_ratio     0.0905      0.016      5.496      0.000       0.058       0.123\n",
            "========================================================================================\n"
          ]
        }
      ],
      "source": [
        "print(model_4.summary())"
      ]
    },
    {
      "cell_type": "code",
      "execution_count": 45,
      "metadata": {
        "id": "UeimUZnSc0g5"
      },
      "outputs": [],
      "source": [
        "y_prob_pred_train = model_4.predict(Default_train)"
      ]
    },
    {
      "cell_type": "code",
      "execution_count": 46,
      "metadata": {
        "id": "9wz-reL0c0g5"
      },
      "outputs": [],
      "source": [
        "y_class_pred=[]\n",
        "for i in range(0,len(y_prob_pred_train)):\n",
        "    if np.array(y_prob_pred_train)[i]>0.5:\n",
        "        a=1\n",
        "    else:\n",
        "        a=0\n",
        "    y_class_pred.append(a)"
      ]
    },
    {
      "cell_type": "code",
      "execution_count": 47,
      "metadata": {
        "id": "PeeDB6W1c0g6"
      },
      "outputs": [],
      "source": [
        "from sklearn import metrics"
      ]
    },
    {
      "cell_type": "code",
      "execution_count": 48,
      "metadata": {
        "colab": {
          "base_uri": "https://localhost:8080/",
          "height": 279
        },
        "id": "vyZS8wV4c0g6",
        "outputId": "5550bc24-48fb-42e8-e8b2-2903ba90d65b"
      },
      "outputs": [
        {
          "output_type": "display_data",
          "data": {
            "text/plain": [
              "<Figure size 432x288 with 2 Axes>"
            ],
            "image/png": "[encoded data removed]"
          },
          "metadata": {
            "needs_background": "light"
          }
        }
      ],
      "source": [
        "sns.heatmap((metrics.confusion_matrix(Default_train['default'],y_class_pred)),annot=True,fmt='.5g'\n",
        "            ,cmap='Blues');\n",
        "plt.xlabel('Predicted');\n",
        "plt.ylabel('Actuals',rotation=0);"
      ]
    },
    {
      "cell_type": "markdown",
      "metadata": {
        "id": "ne4UoGfrc0g6"
      },
      "source": [
        "## Prediction on the Data"
      ]
    },
    {
      "cell_type": "markdown",
      "metadata": {
        "id": "4sSmkEXXc0g6"
      },
      "source": [
        "Now, let us see the predicted probability values."
      ]
    },
    {
      "cell_type": "code",
      "execution_count": 62,
      "metadata": {
        "id": "2MAJ0WQFc0g6"
      },
      "outputs": [],
      "source": [
        "y_prob_pred_4 = model_4.predict()"
      ]
    },
    {
      "cell_type": "code",
      "execution_count": 64,
      "metadata": {
        "id": "bknd2xWsc0g6"
      },
      "outputs": [],
      "source": [
        "#sns.boxplot(x=Default['default'],y=y_prob_pred_4)\n",
        "#plt.xlabel('Default');"
      ]
    },
    {
      "cell_type": "markdown",
      "metadata": {
        "id": "XdecB16Tc0g6"
      },
      "source": [
        "#### Choosing the optimal threshold"
      ]
    },
    {
      "cell_type": "code",
      "execution_count": 53,
      "metadata": {
        "id": "T3h8ri02c0g6"
      },
      "outputs": [],
      "source": [
        "from sklearn.metrics import roc_curve\n",
        "fpr, tpr, thresholds = roc_curve(Default_train['default'],y_prob_pred_train)"
      ]
    },
    {
      "cell_type": "code",
      "execution_count": 54,
      "metadata": {
        "colab": {
          "base_uri": "https://localhost:8080/"
        },
        "id": "7CqBV8aLc0g6",
        "outputId": "d4f3c914-c612-437a-d9a9-ee1199131e4c"
      },
      "outputs": [
        {
          "output_type": "execute_result",
          "data": {
            "text/plain": [
              "0.24395778809173133"
            ]
          },
          "metadata": {},
          "execution_count": 54
        }
      ],
      "source": [
        "optimal_idx = np.argmax(tpr - fpr)\n",
        "optimal_threshold = thresholds[optimal_idx]\n",
        "optimal_threshold"
      ]
    },
    {
      "cell_type": "markdown",
      "metadata": {
        "id": "pfQYBiZ4c0g6"
      },
      "source": [
        "#### Validating on the train set with revised threshold"
      ]
    },
    {
      "cell_type": "code",
      "execution_count": 55,
      "metadata": {
        "id": "6-acaM0uc0g7"
      },
      "outputs": [],
      "source": [
        "y_class_pred=[]\n",
        "for i in range(0,len(y_prob_pred_train)):\n",
        "    if np.array(y_prob_pred_train)[i]>0.24:\n",
        "        a=1\n",
        "    else:\n",
        "        a=0\n",
        "    y_class_pred.append(a)"
      ]
    },
    {
      "cell_type": "code",
      "execution_count": 56,
      "metadata": {
        "colab": {
          "base_uri": "https://localhost:8080/",
          "height": 279
        },
        "id": "ZYeRpd6_c0g7",
        "outputId": "c8caa613-5777-459e-fe10-6b02cc37b38d"
      },
      "outputs": [
        {
          "output_type": "display_data",
          "data": {
            "text/plain": [
              "<Figure size 432x288 with 2 Axes>"
            ],
            "image/png": "[encoded data removed]"
          },
          "metadata": {
            "needs_background": "light"
          }
        }
      ],
      "source": [
        "sns.heatmap((metrics.confusion_matrix(Default_train['default'],y_class_pred)),annot=True,fmt='.5g'\n",
        "            ,cmap='Blues');\n",
        "plt.xlabel('Predicted');\n",
        "plt.ylabel('Actuals',rotation=0);"
      ]
    },
    {
      "cell_type": "markdown",
      "metadata": {
        "id": "vPuhTC9Dc0g7"
      },
      "source": [
        "Let us now go ahead and print the classification report to check the various other parameters."
      ]
    },
    {
      "cell_type": "code",
      "execution_count": 57,
      "metadata": {
        "colab": {
          "base_uri": "https://localhost:8080/"
        },
        "id": "OskGGB0Dc0g7",
        "outputId": "36d00bfb-a1df-4ce9-9c20-b3cc46317cc1"
      },
      "outputs": [
        {
          "output_type": "stream",
          "name": "stdout",
          "text": [
            "              precision    recall  f1-score   support\n",
            "\n",
            "           0      0.877     0.658     0.752       739\n",
            "           1      0.389     0.703     0.501       229\n",
            "\n",
            "    accuracy                          0.668       968\n",
            "   macro avg      0.633     0.680     0.626       968\n",
            "weighted avg      0.762     0.668     0.692       968\n",
            "\n"
          ]
        }
      ],
      "source": [
        "print(metrics.classification_report(Default_train['default'],y_class_pred,digits=3))"
      ]
    },
    {
      "cell_type": "markdown",
      "metadata": {
        "id": "6_yEZnk-c0g7"
      },
      "source": [
        "#### Validating on the test set"
      ]
    },
    {
      "cell_type": "code",
      "execution_count": 58,
      "metadata": {
        "id": "vQ6w2o7Fc0g7"
      },
      "outputs": [],
      "source": [
        "y_prob_pred_test = model_4.predict(Default_test)"
      ]
    },
    {
      "cell_type": "code",
      "execution_count": 59,
      "metadata": {
        "id": "xlJ3JPDic0g7"
      },
      "outputs": [],
      "source": [
        "y_class_pred=[]\n",
        "for i in range(0,len(y_prob_pred_test)):\n",
        "    if np.array(y_prob_pred_test)[i]>0.24:\n",
        "        a=1\n",
        "    else:\n",
        "        a=0\n",
        "    y_class_pred.append(a)"
      ]
    },
    {
      "cell_type": "code",
      "execution_count": 67,
      "metadata": {
        "colab": {
          "base_uri": "https://localhost:8080/",
          "height": 281
        },
        "id": "m9R_5xknc0g7",
        "outputId": "c5dbece4-5a96-4548-de78-3e098d706d1c"
      },
      "outputs": [
        {
          "output_type": "display_data",
          "data": {
            "text/plain": [
              "<Figure size 432x288 with 2 Axes>"
            ],
            "image/png": "[encoded data removed]"
          },
          "metadata": {
            "needs_background": "light"
          }
        }
      ],
      "source": [
        "sns.heatmap((metrics.confusion_matrix(Default_test['default'],y_class_pred)),annot=True,fmt='.5g'\n",
        "            ,cmap='Blues');\n",
        "plt.xlabel('Predicted');\n",
        "plt.ylabel('Actuals',rotation=0);"
      ]
    },
    {
      "cell_type": "code",
      "execution_count": 61,
      "metadata": {
        "colab": {
          "base_uri": "https://localhost:8080/"
        },
        "id": "7Z4bdGq4c0g7",
        "outputId": "1a3fb24d-1765-49e7-8956-918de7dbb944"
      },
      "outputs": [
        {
          "output_type": "stream",
          "name": "stdout",
          "text": [
            "              precision    recall  f1-score   support\n",
            "\n",
            "           0      0.894     0.629     0.739       321\n",
            "           1      0.374     0.747     0.498        95\n",
            "\n",
            "    accuracy                          0.656       416\n",
            "   macro avg      0.634     0.688     0.618       416\n",
            "weighted avg      0.775     0.656     0.684       416\n",
            "\n"
          ]
        }
      ],
      "source": [
        "print(metrics.classification_report(Default_test['default'],y_class_pred,digits=3))"
      ]
    },
    {
      "cell_type": "markdown",
      "metadata": {
        "id": "Q-4elv84c0g7"
      },
      "source": [
        "## END"
      ]
    }
  ],
  "metadata": {
    "kernelspec": {
      "display_name": "Python 3 (ipykernel)",
      "language": "python",
      "name": "python3"
    },
    "language_info": {
      "codemirror_mode": {
        "name": "ipython",
        "version": 3
      },
      "file_extension": ".py",
      "mimetype": "text/x-python",
      "name": "python",
      "nbconvert_exporter": "python",
      "pygments_lexer": "ipython3",
      "version": "3.9.7"
    },
    "colab": {
      "name": "Company_Default-Solution File.ipynb",
      "provenance": [],
      "toc_visible": true,
      "include_colab_link": true
    }
  },
  "nbformat": 4,
  "nbformat_minor": 0
}